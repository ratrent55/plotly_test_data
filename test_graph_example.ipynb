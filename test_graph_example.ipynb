{
 "cells": [
  {
   "cell_type": "markdown",
   "metadata": {},
   "source": [
    "# Example code for making plots from test data"
   ]
  },
  {
   "cell_type": "code",
   "execution_count": 199,
   "metadata": {},
   "outputs": [],
   "source": [
    "import numpy as np\n",
    "import pandas as pd\n",
    "import plotly.express as px\n"
   ]
  },
  {
   "cell_type": "code",
   "execution_count": 200,
   "metadata": {},
   "outputs": [
    {
     "data": {
      "application/vnd.microsoft.datawrangler.viewer.v0+json": {
       "columns": [
        {
         "name": "index",
         "rawType": "int64",
         "type": "integer"
        },
        {
         "name": "unit_number",
         "rawType": "int64",
         "type": "integer"
        },
        {
         "name": "time_in_cycles",
         "rawType": "int64",
         "type": "integer"
        },
        {
         "name": "operational_setting_1",
         "rawType": "float64",
         "type": "float"
        },
        {
         "name": "operational_setting_2",
         "rawType": "float64",
         "type": "float"
        },
        {
         "name": "operational_setting_3",
         "rawType": "int64",
         "type": "integer"
        },
        {
         "name": "(Fan inlet temperature) (◦R)",
         "rawType": "float64",
         "type": "float"
        },
        {
         "name": "(LPC outlet temperature) (◦R)",
         "rawType": "float64",
         "type": "float"
        },
        {
         "name": "(HPC outlet temperature) (◦R)",
         "rawType": "float64",
         "type": "float"
        },
        {
         "name": "(LPT outlet temperature) (◦R)",
         "rawType": "float64",
         "type": "float"
        },
        {
         "name": "(Fan inlet Pressure) (psia)",
         "rawType": "float64",
         "type": "float"
        },
        {
         "name": "(bypass-duct pressure) (psia)",
         "rawType": "float64",
         "type": "float"
        },
        {
         "name": "(HPC outlet pressure) (psia)",
         "rawType": "float64",
         "type": "float"
        },
        {
         "name": "(Physical fan speed) (rpm)",
         "rawType": "float64",
         "type": "float"
        },
        {
         "name": "(Physical core speed) (rpm)",
         "rawType": "float64",
         "type": "float"
        },
        {
         "name": "(Engine pressure ratio(P50/P2)",
         "rawType": "float64",
         "type": "float"
        },
        {
         "name": "(HPC outlet Static pressure) (psia)",
         "rawType": "float64",
         "type": "float"
        },
        {
         "name": "(Ratio of fuel flow to Ps30) (pps/psia)",
         "rawType": "float64",
         "type": "float"
        },
        {
         "name": "(Corrected fan speed) (rpm)",
         "rawType": "float64",
         "type": "float"
        },
        {
         "name": "(Corrected core speed) (rpm)",
         "rawType": "float64",
         "type": "float"
        },
        {
         "name": "(Bypass Ratio)",
         "rawType": "float64",
         "type": "float"
        },
        {
         "name": "(Burner fuel-air ratio)",
         "rawType": "float64",
         "type": "float"
        },
        {
         "name": "(Bleed Enthalpy)",
         "rawType": "int64",
         "type": "integer"
        },
        {
         "name": "(Required fan speed)",
         "rawType": "int64",
         "type": "integer"
        },
        {
         "name": "(Required fan conversion speed)",
         "rawType": "int64",
         "type": "integer"
        },
        {
         "name": "(High-pressure turbines Cool air flow)",
         "rawType": "float64",
         "type": "float"
        },
        {
         "name": "(Low-pressure turbines Cool air flow)",
         "rawType": "float64",
         "type": "float"
        },
        {
         "name": "RUL",
         "rawType": "int64",
         "type": "integer"
        }
       ],
       "ref": "b427b8d9-75c4-4d7c-b101-881122fad187",
       "rows": [
        [
         "0",
         "1",
         "1",
         "-0.0007",
         "-0.0004",
         "100",
         "518.67",
         "641.82",
         "1589.7",
         "1400.6",
         "14.62",
         "21.61",
         "554.36",
         "2388.06",
         "9046.19",
         "1.3",
         "47.47",
         "521.66",
         "2388.02",
         "8138.62",
         "8.4195",
         "0.03",
         "392",
         "2388",
         "100",
         "39.06",
         "23.419",
         "191"
        ],
        [
         "1",
         "1",
         "2",
         "0.0019",
         "-0.0003",
         "100",
         "518.67",
         "642.15",
         "1591.82",
         "1403.14",
         "14.62",
         "21.61",
         "553.75",
         "2388.04",
         "9044.07",
         "1.3",
         "47.49",
         "522.28",
         "2388.07",
         "8131.49",
         "8.4318",
         "0.03",
         "392",
         "2388",
         "100",
         "39.0",
         "23.4236",
         "190"
        ],
        [
         "2",
         "1",
         "3",
         "-0.0043",
         "0.0003",
         "100",
         "518.67",
         "642.35",
         "1587.99",
         "1404.2",
         "14.62",
         "21.61",
         "554.26",
         "2388.08",
         "9052.94",
         "1.3",
         "47.27",
         "522.42",
         "2388.03",
         "8133.23",
         "8.4178",
         "0.03",
         "390",
         "2388",
         "100",
         "38.95",
         "23.3442",
         "189"
        ],
        [
         "3",
         "1",
         "4",
         "0.0007",
         "0.0",
         "100",
         "518.67",
         "642.35",
         "1582.79",
         "1401.87",
         "14.62",
         "21.61",
         "554.45",
         "2388.11",
         "9049.48",
         "1.3",
         "47.13",
         "522.86",
         "2388.08",
         "8133.83",
         "8.3682",
         "0.03",
         "392",
         "2388",
         "100",
         "38.88",
         "23.3739",
         "188"
        ],
        [
         "4",
         "1",
         "5",
         "-0.0019",
         "-0.0002",
         "100",
         "518.67",
         "642.37",
         "1582.85",
         "1406.22",
         "14.62",
         "21.61",
         "554.0",
         "2388.06",
         "9055.15",
         "1.3",
         "47.28",
         "522.19",
         "2388.04",
         "8133.8",
         "8.4294",
         "0.03",
         "393",
         "2388",
         "100",
         "38.9",
         "23.4044",
         "187"
        ]
       ],
       "shape": {
        "columns": 27,
        "rows": 5
       }
      },
      "text/html": [
       "<div>\n",
       "<style scoped>\n",
       "    .dataframe tbody tr th:only-of-type {\n",
       "        vertical-align: middle;\n",
       "    }\n",
       "\n",
       "    .dataframe tbody tr th {\n",
       "        vertical-align: top;\n",
       "    }\n",
       "\n",
       "    .dataframe thead th {\n",
       "        text-align: right;\n",
       "    }\n",
       "</style>\n",
       "<table border=\"1\" class=\"dataframe\">\n",
       "  <thead>\n",
       "    <tr style=\"text-align: right;\">\n",
       "      <th></th>\n",
       "      <th>unit_number</th>\n",
       "      <th>time_in_cycles</th>\n",
       "      <th>operational_setting_1</th>\n",
       "      <th>operational_setting_2</th>\n",
       "      <th>operational_setting_3</th>\n",
       "      <th>(Fan inlet temperature) (◦R)</th>\n",
       "      <th>(LPC outlet temperature) (◦R)</th>\n",
       "      <th>(HPC outlet temperature) (◦R)</th>\n",
       "      <th>(LPT outlet temperature) (◦R)</th>\n",
       "      <th>(Fan inlet Pressure) (psia)</th>\n",
       "      <th>...</th>\n",
       "      <th>(Corrected fan speed) (rpm)</th>\n",
       "      <th>(Corrected core speed) (rpm)</th>\n",
       "      <th>(Bypass Ratio)</th>\n",
       "      <th>(Burner fuel-air ratio)</th>\n",
       "      <th>(Bleed Enthalpy)</th>\n",
       "      <th>(Required fan speed)</th>\n",
       "      <th>(Required fan conversion speed)</th>\n",
       "      <th>(High-pressure turbines Cool air flow)</th>\n",
       "      <th>(Low-pressure turbines Cool air flow)</th>\n",
       "      <th>RUL</th>\n",
       "    </tr>\n",
       "  </thead>\n",
       "  <tbody>\n",
       "    <tr>\n",
       "      <th>0</th>\n",
       "      <td>1</td>\n",
       "      <td>1</td>\n",
       "      <td>-0.0007</td>\n",
       "      <td>-0.0004</td>\n",
       "      <td>100</td>\n",
       "      <td>518.67</td>\n",
       "      <td>641.82</td>\n",
       "      <td>1589.70</td>\n",
       "      <td>1400.60</td>\n",
       "      <td>14.62</td>\n",
       "      <td>...</td>\n",
       "      <td>2388.02</td>\n",
       "      <td>8138.62</td>\n",
       "      <td>8.4195</td>\n",
       "      <td>0.03</td>\n",
       "      <td>392</td>\n",
       "      <td>2388</td>\n",
       "      <td>100</td>\n",
       "      <td>39.06</td>\n",
       "      <td>23.4190</td>\n",
       "      <td>191</td>\n",
       "    </tr>\n",
       "    <tr>\n",
       "      <th>1</th>\n",
       "      <td>1</td>\n",
       "      <td>2</td>\n",
       "      <td>0.0019</td>\n",
       "      <td>-0.0003</td>\n",
       "      <td>100</td>\n",
       "      <td>518.67</td>\n",
       "      <td>642.15</td>\n",
       "      <td>1591.82</td>\n",
       "      <td>1403.14</td>\n",
       "      <td>14.62</td>\n",
       "      <td>...</td>\n",
       "      <td>2388.07</td>\n",
       "      <td>8131.49</td>\n",
       "      <td>8.4318</td>\n",
       "      <td>0.03</td>\n",
       "      <td>392</td>\n",
       "      <td>2388</td>\n",
       "      <td>100</td>\n",
       "      <td>39.00</td>\n",
       "      <td>23.4236</td>\n",
       "      <td>190</td>\n",
       "    </tr>\n",
       "    <tr>\n",
       "      <th>2</th>\n",
       "      <td>1</td>\n",
       "      <td>3</td>\n",
       "      <td>-0.0043</td>\n",
       "      <td>0.0003</td>\n",
       "      <td>100</td>\n",
       "      <td>518.67</td>\n",
       "      <td>642.35</td>\n",
       "      <td>1587.99</td>\n",
       "      <td>1404.20</td>\n",
       "      <td>14.62</td>\n",
       "      <td>...</td>\n",
       "      <td>2388.03</td>\n",
       "      <td>8133.23</td>\n",
       "      <td>8.4178</td>\n",
       "      <td>0.03</td>\n",
       "      <td>390</td>\n",
       "      <td>2388</td>\n",
       "      <td>100</td>\n",
       "      <td>38.95</td>\n",
       "      <td>23.3442</td>\n",
       "      <td>189</td>\n",
       "    </tr>\n",
       "    <tr>\n",
       "      <th>3</th>\n",
       "      <td>1</td>\n",
       "      <td>4</td>\n",
       "      <td>0.0007</td>\n",
       "      <td>0.0000</td>\n",
       "      <td>100</td>\n",
       "      <td>518.67</td>\n",
       "      <td>642.35</td>\n",
       "      <td>1582.79</td>\n",
       "      <td>1401.87</td>\n",
       "      <td>14.62</td>\n",
       "      <td>...</td>\n",
       "      <td>2388.08</td>\n",
       "      <td>8133.83</td>\n",
       "      <td>8.3682</td>\n",
       "      <td>0.03</td>\n",
       "      <td>392</td>\n",
       "      <td>2388</td>\n",
       "      <td>100</td>\n",
       "      <td>38.88</td>\n",
       "      <td>23.3739</td>\n",
       "      <td>188</td>\n",
       "    </tr>\n",
       "    <tr>\n",
       "      <th>4</th>\n",
       "      <td>1</td>\n",
       "      <td>5</td>\n",
       "      <td>-0.0019</td>\n",
       "      <td>-0.0002</td>\n",
       "      <td>100</td>\n",
       "      <td>518.67</td>\n",
       "      <td>642.37</td>\n",
       "      <td>1582.85</td>\n",
       "      <td>1406.22</td>\n",
       "      <td>14.62</td>\n",
       "      <td>...</td>\n",
       "      <td>2388.04</td>\n",
       "      <td>8133.80</td>\n",
       "      <td>8.4294</td>\n",
       "      <td>0.03</td>\n",
       "      <td>393</td>\n",
       "      <td>2388</td>\n",
       "      <td>100</td>\n",
       "      <td>38.90</td>\n",
       "      <td>23.4044</td>\n",
       "      <td>187</td>\n",
       "    </tr>\n",
       "  </tbody>\n",
       "</table>\n",
       "<p>5 rows × 27 columns</p>\n",
       "</div>"
      ],
      "text/plain": [
       "   unit_number  time_in_cycles  operational_setting_1  operational_setting_2  \\\n",
       "0            1               1                -0.0007                -0.0004   \n",
       "1            1               2                 0.0019                -0.0003   \n",
       "2            1               3                -0.0043                 0.0003   \n",
       "3            1               4                 0.0007                 0.0000   \n",
       "4            1               5                -0.0019                -0.0002   \n",
       "\n",
       "   operational_setting_3  (Fan inlet temperature) (◦R)  \\\n",
       "0                    100                        518.67   \n",
       "1                    100                        518.67   \n",
       "2                    100                        518.67   \n",
       "3                    100                        518.67   \n",
       "4                    100                        518.67   \n",
       "\n",
       "   (LPC outlet temperature) (◦R)  (HPC outlet temperature) (◦R)  \\\n",
       "0                         641.82                        1589.70   \n",
       "1                         642.15                        1591.82   \n",
       "2                         642.35                        1587.99   \n",
       "3                         642.35                        1582.79   \n",
       "4                         642.37                        1582.85   \n",
       "\n",
       "   (LPT outlet temperature) (◦R)  (Fan inlet Pressure) (psia)  ...  \\\n",
       "0                        1400.60                        14.62  ...   \n",
       "1                        1403.14                        14.62  ...   \n",
       "2                        1404.20                        14.62  ...   \n",
       "3                        1401.87                        14.62  ...   \n",
       "4                        1406.22                        14.62  ...   \n",
       "\n",
       "   (Corrected fan speed) (rpm)  (Corrected core speed) (rpm)  (Bypass Ratio)  \\\n",
       "0                      2388.02                       8138.62          8.4195   \n",
       "1                      2388.07                       8131.49          8.4318   \n",
       "2                      2388.03                       8133.23          8.4178   \n",
       "3                      2388.08                       8133.83          8.3682   \n",
       "4                      2388.04                       8133.80          8.4294   \n",
       "\n",
       "   (Burner fuel-air ratio)  (Bleed Enthalpy)  (Required fan speed)  \\\n",
       "0                     0.03               392                  2388   \n",
       "1                     0.03               392                  2388   \n",
       "2                     0.03               390                  2388   \n",
       "3                     0.03               392                  2388   \n",
       "4                     0.03               393                  2388   \n",
       "\n",
       "   (Required fan conversion speed)  (High-pressure turbines Cool air flow)  \\\n",
       "0                              100                                   39.06   \n",
       "1                              100                                   39.00   \n",
       "2                              100                                   38.95   \n",
       "3                              100                                   38.88   \n",
       "4                              100                                   38.90   \n",
       "\n",
       "   (Low-pressure turbines Cool air flow)  RUL  \n",
       "0                                23.4190  191  \n",
       "1                                23.4236  190  \n",
       "2                                23.3442  189  \n",
       "3                                23.3739  188  \n",
       "4                                23.4044  187  \n",
       "\n",
       "[5 rows x 27 columns]"
      ]
     },
     "execution_count": 200,
     "metadata": {},
     "output_type": "execute_result"
    }
   ],
   "source": [
    "dataFrame = pd.read_excel(\"testData.xlsx\",sheet_name=\"Sheet1\")\n",
    "dataFrame.head()\n",
    "\n",
    "# drop unnecessary rows in data\n",
    "# dataFrame.drop(np.arange(0,100), inplace=True)\n",
    "# dataFrame.drop(np.arange(5000,6000), inplace=True)"
   ]
  },
  {
   "cell_type": "markdown",
   "metadata": {},
   "source": [
    "## Plotly Line Plots"
   ]
  },
  {
   "cell_type": "markdown",
   "metadata": {},
   "source": [
    "plot multiple columns of data against a target column (e.g. time)"
   ]
  },
  {
   "cell_type": "code",
   "execution_count": 201,
   "metadata": {},
   "outputs": [],
   "source": [
    "def plot_multiple_variables_vs_target(df, target_column, y_columns):\n",
    "   \"\"\"\n",
    "   Generate an interactive plot of multiple variables against the target column using Plotly.\n",
    "\n",
    "   Parameters:\n",
    "       df (pd.DataFrame): The DataFrame containing the data.\n",
    "       target_column (str): The column to use for the x-axis (e.g., time).\n",
    "       y_columns (list): The list of columns to plot against the target column.\n",
    "   \"\"\"\n",
    "   # Ensure the target column exists in the DataFrame\n",
    "   if target_column not in df.columns:\n",
    "       raise ValueError(f\"Target column '{target_column}' not found in DataFrame.\")\n",
    "\n",
    "   # Ensure all y_columns exist in the DataFrame\n",
    "   for col in y_columns:\n",
    "       if col not in df.columns:\n",
    "           raise ValueError(f\"Column '{col}' not found in DataFrame.\")\n",
    "    \n",
    "    #convert to numeric \n",
    "   df[target_column] = pd.to_numeric(df[target_column], errors='coerce')\n",
    "\n",
    "   for col in y_columns:\n",
    "       df[col] = pd.to_numeric(df[col], errors=\"coerce\")\n",
    "   \n",
    "   # Melt the DataFrame to create a long format for Plotly\n",
    "   melted_df = df.melt(id_vars=target_column, value_vars=y_columns, \n",
    "                       var_name=\"Variable\", value_name=\"Value\")\n",
    "\n",
    "   # Create a plot using Plotly\n",
    "   fig = px.line(\n",
    "       melted_df,\n",
    "       x=target_column,\n",
    "       y=\"Value\",\n",
    "       color=\"Variable\",\n",
    "       title=f\"{', '.join(y_columns)} vs {target_column}\",\n",
    "       labels={target_column: target_column, \"Value\": \"Value\", \"Variable\": \"Variable\"}\n",
    "   )\n",
    "\n",
    "   # Show the interactive plot\n",
    "   fig.show()\n",
    "\n",
    "\n"
   ]
  },
  {
   "cell_type": "code",
   "execution_count": 202,
   "metadata": {},
   "outputs": [
    {
     "data": {
      "application/vnd.plotly.v1+json": {
       "config": {
        "plotlyServerURL": "https://plot.ly"
       },
       "data": [
        {
         "hovertemplate": "Variable=(LPC outlet temperature) (◦R)<br>time_in_cycles=%{x}<br>Value=%{y}<extra></extra>",
         "legendgroup": "(LPC outlet temperature) (◦R)",
         "line": {
          "color": "#636efa",
          "dash": "solid"
         },
         "marker": {
          "symbol": "circle"
         },
         "mode": "lines",
         "name": "(LPC outlet temperature) (◦R)",
         "orientation": "v",
         "showlegend": true,
         "type": "scatter",
         "x": [
          1,
          2,
          3,
          4,
          5,
          6,
          7,
          8,
          9,
          10,
          11,
          12,
          13,
          14,
          15,
          16,
          17,
          18,
          19,
          20,
          21,
          22,
          23,
          24,
          25,
          26,
          27,
          28,
          29,
          30,
          31,
          32,
          33,
          34,
          35,
          36,
          37,
          38,
          39,
          40,
          41,
          42,
          43,
          44,
          45,
          46,
          47,
          48,
          49,
          50,
          51,
          52,
          53,
          54,
          55,
          56,
          57,
          58,
          59,
          60,
          61,
          62,
          63,
          64,
          65,
          66,
          67,
          68,
          69,
          70,
          71,
          72,
          73,
          74,
          75,
          76,
          77,
          78,
          79,
          80,
          81,
          82,
          83,
          84,
          85,
          86,
          87,
          88,
          89,
          90,
          91,
          92,
          93,
          94,
          95,
          96,
          97,
          98,
          99,
          100,
          101,
          102,
          103,
          104,
          105,
          106,
          107,
          108,
          109,
          110,
          111,
          112,
          113,
          114,
          115,
          116,
          117,
          118,
          119,
          120,
          121,
          122,
          123,
          124,
          125,
          126,
          127,
          128,
          129,
          130,
          131,
          132,
          133,
          134,
          135,
          136,
          137,
          138,
          139,
          140,
          141,
          142,
          143,
          144,
          145,
          146,
          147,
          148,
          149,
          150,
          151,
          152,
          153,
          154,
          155,
          156,
          157,
          158,
          159,
          160,
          161,
          162,
          163,
          164,
          165,
          166,
          167,
          168,
          169,
          170,
          171,
          172,
          173,
          174,
          175,
          176,
          177,
          178,
          179,
          180,
          181,
          182,
          183,
          184,
          185,
          186,
          187,
          188,
          189,
          190,
          191,
          192
         ],
         "xaxis": "x",
         "y": [
          641.82,
          642.15,
          642.35,
          642.35,
          642.37,
          642.1,
          642.48,
          642.56,
          642.12,
          641.71,
          642.28,
          642.06,
          643.07,
          642.35,
          642.43,
          642.13,
          642.58,
          642.62,
          641.79,
          643.04,
          642.37,
          642.77,
          642.14,
          642.38,
          642.77,
          642.16,
          642.44,
          642.35,
          641.91,
          642.2,
          642.02,
          642.33,
          642.71,
          642.54,
          642.44,
          642.54,
          641.99,
          641.93,
          642.01,
          642.24,
          642.4,
          642.12,
          642.24,
          641.93,
          642.53,
          642.43,
          642.21,
          641.89,
          642.23,
          642.77,
          642.81,
          642.76,
          642.61,
          642.42,
          642.41,
          642.49,
          642.13,
          641.9,
          642.33,
          642.34,
          642.1,
          642.17,
          642.6,
          642.23,
          642.28,
          642.5,
          642.33,
          642.51,
          642.44,
          642.22,
          642.21,
          642.41,
          642.29,
          642.96,
          641.96,
          642.21,
          642.55,
          641.99,
          642.12,
          641.94,
          642.73,
          642.04,
          642.66,
          642.64,
          642.28,
          641.84,
          642.33,
          641.96,
          642.24,
          642.67,
          641.98,
          642.89,
          642.85,
          642.45,
          642.86,
          642.19,
          642.07,
          642,
          642.46,
          642.22,
          642.75,
          642.85,
          642.21,
          642.29,
          642.01,
          642.68,
          642.53,
          643.49,
          642.49,
          642.55,
          642.67,
          642.66,
          642.68,
          642.31,
          642.66,
          642.64,
          642.38,
          642.34,
          642.67,
          642.81,
          642.63,
          643.3,
          643.39,
          642.48,
          642.96,
          642.49,
          642.99,
          642.47,
          642.41,
          642.7,
          643.01,
          643.19,
          642.45,
          642.85,
          642.45,
          642.84,
          642.43,
          642.79,
          643.11,
          643.05,
          642.39,
          642.51,
          642.77,
          643.09,
          642.95,
          642.72,
          642.25,
          643.02,
          642.9,
          643.06,
          642.82,
          642.67,
          642.99,
          642.81,
          642.83,
          643.04,
          642.2,
          642.88,
          642.89,
          643.45,
          643,
          643.15,
          642.85,
          643.17,
          642.76,
          643.34,
          643.02,
          642.68,
          643.2,
          642.92,
          643.26,
          643.33,
          642.97,
          642.64,
          643.61,
          642.86,
          643.79,
          643.38,
          642.86,
          643.58,
          643.44,
          644.21,
          643.24,
          644.07,
          643.8,
          643.51,
          643.32,
          643.75,
          644.18,
          643.64,
          643.34,
          643.54
         ],
         "yaxis": "y"
        },
        {
         "hovertemplate": "Variable=(LPT outlet temperature) (◦R)<br>time_in_cycles=%{x}<br>Value=%{y}<extra></extra>",
         "legendgroup": "(LPT outlet temperature) (◦R)",
         "line": {
          "color": "#EF553B",
          "dash": "solid"
         },
         "marker": {
          "symbol": "circle"
         },
         "mode": "lines",
         "name": "(LPT outlet temperature) (◦R)",
         "orientation": "v",
         "showlegend": true,
         "type": "scatter",
         "x": [
          1,
          2,
          3,
          4,
          5,
          6,
          7,
          8,
          9,
          10,
          11,
          12,
          13,
          14,
          15,
          16,
          17,
          18,
          19,
          20,
          21,
          22,
          23,
          24,
          25,
          26,
          27,
          28,
          29,
          30,
          31,
          32,
          33,
          34,
          35,
          36,
          37,
          38,
          39,
          40,
          41,
          42,
          43,
          44,
          45,
          46,
          47,
          48,
          49,
          50,
          51,
          52,
          53,
          54,
          55,
          56,
          57,
          58,
          59,
          60,
          61,
          62,
          63,
          64,
          65,
          66,
          67,
          68,
          69,
          70,
          71,
          72,
          73,
          74,
          75,
          76,
          77,
          78,
          79,
          80,
          81,
          82,
          83,
          84,
          85,
          86,
          87,
          88,
          89,
          90,
          91,
          92,
          93,
          94,
          95,
          96,
          97,
          98,
          99,
          100,
          101,
          102,
          103,
          104,
          105,
          106,
          107,
          108,
          109,
          110,
          111,
          112,
          113,
          114,
          115,
          116,
          117,
          118,
          119,
          120,
          121,
          122,
          123,
          124,
          125,
          126,
          127,
          128,
          129,
          130,
          131,
          132,
          133,
          134,
          135,
          136,
          137,
          138,
          139,
          140,
          141,
          142,
          143,
          144,
          145,
          146,
          147,
          148,
          149,
          150,
          151,
          152,
          153,
          154,
          155,
          156,
          157,
          158,
          159,
          160,
          161,
          162,
          163,
          164,
          165,
          166,
          167,
          168,
          169,
          170,
          171,
          172,
          173,
          174,
          175,
          176,
          177,
          178,
          179,
          180,
          181,
          182,
          183,
          184,
          185,
          186,
          187,
          188,
          189,
          190,
          191,
          192
         ],
         "xaxis": "x",
         "y": [
          1400.6,
          1403.14,
          1404.2,
          1401.87,
          1406.22,
          1398.37,
          1397.77,
          1400.97,
          1394.8,
          1400.46,
          1400.64,
          1400.15,
          1400.83,
          1399.16,
          1402.13,
          1404.5,
          1399.95,
          1396.12,
          1400.35,
          1405.23,
          1398.13,
          1400.57,
          1394.75,
          1398.81,
          1399.39,
          1396.07,
          1401.84,
          1399.13,
          1400.99,
          1396.08,
          1396.9,
          1400.36,
          1402.43,
          1400.48,
          1403,
          1405.54,
          1398.9,
          1399.5,
          1400.69,
          1401.77,
          1403.21,
          1401.38,
          1406.05,
          1401.2,
          1399.16,
          1401.27,
          1402.89,
          1399.16,
          1397.76,
          1403.62,
          1400.42,
          1395.57,
          1402.26,
          1401.2,
          1401.58,
          1400.76,
          1402.79,
          1397.99,
          1403.51,
          1403.07,
          1405.52,
          1399.54,
          1395.38,
          1400.11,
          1403.24,
          1399.52,
          1403.02,
          1404.42,
          1401.24,
          1402.78,
          1403.09,
          1406.81,
          1397.93,
          1401.48,
          1394.82,
          1398.94,
          1400.97,
          1404.1,
          1403.93,
          1393.58,
          1402.04,
          1399.17,
          1406.38,
          1406.6,
          1405.96,
          1403.56,
          1413.1,
          1406.09,
          1402.22,
          1412.93,
          1404.76,
          1400.77,
          1408.48,
          1404.94,
          1410.1,
          1395.16,
          1407.81,
          1404.56,
          1406.13,
          1411.35,
          1403.41,
          1403.42,
          1403.21,
          1406.25,
          1403.22,
          1404.45,
          1407.73,
          1399.47,
          1409.1,
          1401.27,
          1408.11,
          1401.84,
          1406.59,
          1402.97,
          1406.6,
          1401.99,
          1409.35,
          1409.34,
          1404.46,
          1407.68,
          1411.9,
          1413.97,
          1403.04,
          1402.28,
          1406.42,
          1418.5,
          1399.49,
          1407.06,
          1408.42,
          1412.25,
          1413.25,
          1405.76,
          1410.11,
          1402.67,
          1406.83,
          1404.39,
          1405.15,
          1413.34,
          1412.6,
          1408.36,
          1415.25,
          1413.42,
          1404.21,
          1405.76,
          1409.63,
          1408.82,
          1409.96,
          1411.89,
          1410.7,
          1409.22,
          1411.94,
          1420.83,
          1414.56,
          1416.07,
          1414.89,
          1421.23,
          1412.47,
          1410.09,
          1420.37,
          1418.08,
          1417.31,
          1423.48,
          1421.09,
          1416.76,
          1408.09,
          1422.37,
          1414.72,
          1415.7,
          1418.05,
          1417.41,
          1414.99,
          1413.73,
          1425.27,
          1422.58,
          1422.52,
          1422.73,
          1423.99,
          1424.65,
          1429.45,
          1417.14,
          1420.64,
          1426.62,
          1419.03,
          1432.52,
          1424.4,
          1426.3,
          1427.27,
          1422.78,
          1428.01,
          1425.95,
          1425.77,
          1427.2
         ],
         "yaxis": "y"
        },
        {
         "hovertemplate": "Variable=(HPC outlet temperature) (◦R)<br>time_in_cycles=%{x}<br>Value=%{y}<extra></extra>",
         "legendgroup": "(HPC outlet temperature) (◦R)",
         "line": {
          "color": "#00cc96",
          "dash": "solid"
         },
         "marker": {
          "symbol": "circle"
         },
         "mode": "lines",
         "name": "(HPC outlet temperature) (◦R)",
         "orientation": "v",
         "showlegend": true,
         "type": "scatter",
         "x": [
          1,
          2,
          3,
          4,
          5,
          6,
          7,
          8,
          9,
          10,
          11,
          12,
          13,
          14,
          15,
          16,
          17,
          18,
          19,
          20,
          21,
          22,
          23,
          24,
          25,
          26,
          27,
          28,
          29,
          30,
          31,
          32,
          33,
          34,
          35,
          36,
          37,
          38,
          39,
          40,
          41,
          42,
          43,
          44,
          45,
          46,
          47,
          48,
          49,
          50,
          51,
          52,
          53,
          54,
          55,
          56,
          57,
          58,
          59,
          60,
          61,
          62,
          63,
          64,
          65,
          66,
          67,
          68,
          69,
          70,
          71,
          72,
          73,
          74,
          75,
          76,
          77,
          78,
          79,
          80,
          81,
          82,
          83,
          84,
          85,
          86,
          87,
          88,
          89,
          90,
          91,
          92,
          93,
          94,
          95,
          96,
          97,
          98,
          99,
          100,
          101,
          102,
          103,
          104,
          105,
          106,
          107,
          108,
          109,
          110,
          111,
          112,
          113,
          114,
          115,
          116,
          117,
          118,
          119,
          120,
          121,
          122,
          123,
          124,
          125,
          126,
          127,
          128,
          129,
          130,
          131,
          132,
          133,
          134,
          135,
          136,
          137,
          138,
          139,
          140,
          141,
          142,
          143,
          144,
          145,
          146,
          147,
          148,
          149,
          150,
          151,
          152,
          153,
          154,
          155,
          156,
          157,
          158,
          159,
          160,
          161,
          162,
          163,
          164,
          165,
          166,
          167,
          168,
          169,
          170,
          171,
          172,
          173,
          174,
          175,
          176,
          177,
          178,
          179,
          180,
          181,
          182,
          183,
          184,
          185,
          186,
          187,
          188,
          189,
          190,
          191,
          192
         ],
         "xaxis": "x",
         "y": [
          1589.7,
          1591.82,
          1587.99,
          1582.79,
          1582.85,
          1584.47,
          1592.32,
          1582.96,
          1590.98,
          1591.24,
          1581.75,
          1583.41,
          1582.19,
          1592.95,
          1583.82,
          1587.98,
          1584.96,
          1591.04,
          1587.56,
          1581.11,
          1586.07,
          1592.93,
          1588.19,
          1590.83,
          1594.1,
          1589.08,
          1590.47,
          1582.84,
          1584.83,
          1593.52,
          1584.18,
          1591.38,
          1588.4,
          1581.47,
          1590,
          1581.72,
          1579.11,
          1589.6,
          1583.21,
          1582.08,
          1591.31,
          1584.66,
          1591.52,
          1586.94,
          1582.42,
          1588.29,
          1580.32,
          1588.51,
          1584.35,
          1588.49,
          1585.54,
          1583.77,
          1579.82,
          1592.59,
          1584.95,
          1586.33,
          1583.67,
          1590.46,
          1596.72,
          1582.75,
          1583.55,
          1581.59,
          1592.14,
          1584.51,
          1584.72,
          1588.5,
          1590.22,
          1582.06,
          1590.7,
          1584.02,
          1580.41,
          1579.25,
          1592.04,
          1584.65,
          1582.32,
          1589.21,
          1586.3,
          1580.76,
          1582.46,
          1591.96,
          1584.82,
          1589.07,
          1588.05,
          1585.52,
          1590.12,
          1588.8,
          1586.69,
          1581.29,
          1584.73,
          1584.38,
          1584.84,
          1590.03,
          1593.74,
          1583.27,
          1577.6,
          1584.07,
          1595.77,
          1591.11,
          1592.73,
          1589.63,
          1584.18,
          1589.11,
          1581.27,
          1590.63,
          1588.28,
          1589.05,
          1595.13,
          1585.91,
          1586.45,
          1590.01,
          1584.38,
          1586.46,
          1590.85,
          1588.42,
          1594.84,
          1580.31,
          1589.77,
          1585.67,
          1596.8,
          1593.78,
          1593.56,
          1593.68,
          1586.66,
          1587.14,
          1585.47,
          1582.64,
          1586.9,
          1593.87,
          1591.33,
          1585.9,
          1585.78,
          1596.06,
          1592.64,
          1583.62,
          1585.55,
          1584.72,
          1594.69,
          1589.82,
          1592.28,
          1590.89,
          1590.02,
          1595.29,
          1593.1,
          1591.89,
          1594.92,
          1586.75,
          1594.85,
          1590.03,
          1592.78,
          1589.01,
          1592.39,
          1598.6,
          1589.17,
          1597.03,
          1590.4,
          1585.61,
          1598.04,
          1596.82,
          1589.54,
          1590.65,
          1594.2,
          1592.22,
          1600.54,
          1598.96,
          1597.03,
          1596.72,
          1593.83,
          1591.19,
          1590.16,
          1592.71,
          1592.06,
          1591.71,
          1590.69,
          1599.81,
          1603.29,
          1592.27,
          1602.02,
          1605.33,
          1592.56,
          1599.87,
          1596.71,
          1602.08,
          1597.23,
          1605.44,
          1603.46,
          1595.16,
          1592.1,
          1602.38,
          1596.17,
          1599.22,
          1602.36,
          1601.41
         ],
         "yaxis": "y"
        }
       ],
       "layout": {
        "legend": {
         "title": {
          "text": "Variable"
         },
         "tracegroupgap": 0
        },
        "template": {
         "data": {
          "bar": [
           {
            "error_x": {
             "color": "#2a3f5f"
            },
            "error_y": {
             "color": "#2a3f5f"
            },
            "marker": {
             "line": {
              "color": "#E5ECF6",
              "width": 0.5
             },
             "pattern": {
              "fillmode": "overlay",
              "size": 10,
              "solidity": 0.2
             }
            },
            "type": "bar"
           }
          ],
          "barpolar": [
           {
            "marker": {
             "line": {
              "color": "#E5ECF6",
              "width": 0.5
             },
             "pattern": {
              "fillmode": "overlay",
              "size": 10,
              "solidity": 0.2
             }
            },
            "type": "barpolar"
           }
          ],
          "carpet": [
           {
            "aaxis": {
             "endlinecolor": "#2a3f5f",
             "gridcolor": "white",
             "linecolor": "white",
             "minorgridcolor": "white",
             "startlinecolor": "#2a3f5f"
            },
            "baxis": {
             "endlinecolor": "#2a3f5f",
             "gridcolor": "white",
             "linecolor": "white",
             "minorgridcolor": "white",
             "startlinecolor": "#2a3f5f"
            },
            "type": "carpet"
           }
          ],
          "choropleth": [
           {
            "colorbar": {
             "outlinewidth": 0,
             "ticks": ""
            },
            "type": "choropleth"
           }
          ],
          "contour": [
           {
            "colorbar": {
             "outlinewidth": 0,
             "ticks": ""
            },
            "colorscale": [
             [
              0,
              "#0d0887"
             ],
             [
              0.1111111111111111,
              "#46039f"
             ],
             [
              0.2222222222222222,
              "#7201a8"
             ],
             [
              0.3333333333333333,
              "#9c179e"
             ],
             [
              0.4444444444444444,
              "#bd3786"
             ],
             [
              0.5555555555555556,
              "#d8576b"
             ],
             [
              0.6666666666666666,
              "#ed7953"
             ],
             [
              0.7777777777777778,
              "#fb9f3a"
             ],
             [
              0.8888888888888888,
              "#fdca26"
             ],
             [
              1,
              "#f0f921"
             ]
            ],
            "type": "contour"
           }
          ],
          "contourcarpet": [
           {
            "colorbar": {
             "outlinewidth": 0,
             "ticks": ""
            },
            "type": "contourcarpet"
           }
          ],
          "heatmap": [
           {
            "colorbar": {
             "outlinewidth": 0,
             "ticks": ""
            },
            "colorscale": [
             [
              0,
              "#0d0887"
             ],
             [
              0.1111111111111111,
              "#46039f"
             ],
             [
              0.2222222222222222,
              "#7201a8"
             ],
             [
              0.3333333333333333,
              "#9c179e"
             ],
             [
              0.4444444444444444,
              "#bd3786"
             ],
             [
              0.5555555555555556,
              "#d8576b"
             ],
             [
              0.6666666666666666,
              "#ed7953"
             ],
             [
              0.7777777777777778,
              "#fb9f3a"
             ],
             [
              0.8888888888888888,
              "#fdca26"
             ],
             [
              1,
              "#f0f921"
             ]
            ],
            "type": "heatmap"
           }
          ],
          "heatmapgl": [
           {
            "colorbar": {
             "outlinewidth": 0,
             "ticks": ""
            },
            "colorscale": [
             [
              0,
              "#0d0887"
             ],
             [
              0.1111111111111111,
              "#46039f"
             ],
             [
              0.2222222222222222,
              "#7201a8"
             ],
             [
              0.3333333333333333,
              "#9c179e"
             ],
             [
              0.4444444444444444,
              "#bd3786"
             ],
             [
              0.5555555555555556,
              "#d8576b"
             ],
             [
              0.6666666666666666,
              "#ed7953"
             ],
             [
              0.7777777777777778,
              "#fb9f3a"
             ],
             [
              0.8888888888888888,
              "#fdca26"
             ],
             [
              1,
              "#f0f921"
             ]
            ],
            "type": "heatmapgl"
           }
          ],
          "histogram": [
           {
            "marker": {
             "pattern": {
              "fillmode": "overlay",
              "size": 10,
              "solidity": 0.2
             }
            },
            "type": "histogram"
           }
          ],
          "histogram2d": [
           {
            "colorbar": {
             "outlinewidth": 0,
             "ticks": ""
            },
            "colorscale": [
             [
              0,
              "#0d0887"
             ],
             [
              0.1111111111111111,
              "#46039f"
             ],
             [
              0.2222222222222222,
              "#7201a8"
             ],
             [
              0.3333333333333333,
              "#9c179e"
             ],
             [
              0.4444444444444444,
              "#bd3786"
             ],
             [
              0.5555555555555556,
              "#d8576b"
             ],
             [
              0.6666666666666666,
              "#ed7953"
             ],
             [
              0.7777777777777778,
              "#fb9f3a"
             ],
             [
              0.8888888888888888,
              "#fdca26"
             ],
             [
              1,
              "#f0f921"
             ]
            ],
            "type": "histogram2d"
           }
          ],
          "histogram2dcontour": [
           {
            "colorbar": {
             "outlinewidth": 0,
             "ticks": ""
            },
            "colorscale": [
             [
              0,
              "#0d0887"
             ],
             [
              0.1111111111111111,
              "#46039f"
             ],
             [
              0.2222222222222222,
              "#7201a8"
             ],
             [
              0.3333333333333333,
              "#9c179e"
             ],
             [
              0.4444444444444444,
              "#bd3786"
             ],
             [
              0.5555555555555556,
              "#d8576b"
             ],
             [
              0.6666666666666666,
              "#ed7953"
             ],
             [
              0.7777777777777778,
              "#fb9f3a"
             ],
             [
              0.8888888888888888,
              "#fdca26"
             ],
             [
              1,
              "#f0f921"
             ]
            ],
            "type": "histogram2dcontour"
           }
          ],
          "mesh3d": [
           {
            "colorbar": {
             "outlinewidth": 0,
             "ticks": ""
            },
            "type": "mesh3d"
           }
          ],
          "parcoords": [
           {
            "line": {
             "colorbar": {
              "outlinewidth": 0,
              "ticks": ""
             }
            },
            "type": "parcoords"
           }
          ],
          "pie": [
           {
            "automargin": true,
            "type": "pie"
           }
          ],
          "scatter": [
           {
            "fillpattern": {
             "fillmode": "overlay",
             "size": 10,
             "solidity": 0.2
            },
            "type": "scatter"
           }
          ],
          "scatter3d": [
           {
            "line": {
             "colorbar": {
              "outlinewidth": 0,
              "ticks": ""
             }
            },
            "marker": {
             "colorbar": {
              "outlinewidth": 0,
              "ticks": ""
             }
            },
            "type": "scatter3d"
           }
          ],
          "scattercarpet": [
           {
            "marker": {
             "colorbar": {
              "outlinewidth": 0,
              "ticks": ""
             }
            },
            "type": "scattercarpet"
           }
          ],
          "scattergeo": [
           {
            "marker": {
             "colorbar": {
              "outlinewidth": 0,
              "ticks": ""
             }
            },
            "type": "scattergeo"
           }
          ],
          "scattergl": [
           {
            "marker": {
             "colorbar": {
              "outlinewidth": 0,
              "ticks": ""
             }
            },
            "type": "scattergl"
           }
          ],
          "scattermapbox": [
           {
            "marker": {
             "colorbar": {
              "outlinewidth": 0,
              "ticks": ""
             }
            },
            "type": "scattermapbox"
           }
          ],
          "scatterpolar": [
           {
            "marker": {
             "colorbar": {
              "outlinewidth": 0,
              "ticks": ""
             }
            },
            "type": "scatterpolar"
           }
          ],
          "scatterpolargl": [
           {
            "marker": {
             "colorbar": {
              "outlinewidth": 0,
              "ticks": ""
             }
            },
            "type": "scatterpolargl"
           }
          ],
          "scatterternary": [
           {
            "marker": {
             "colorbar": {
              "outlinewidth": 0,
              "ticks": ""
             }
            },
            "type": "scatterternary"
           }
          ],
          "surface": [
           {
            "colorbar": {
             "outlinewidth": 0,
             "ticks": ""
            },
            "colorscale": [
             [
              0,
              "#0d0887"
             ],
             [
              0.1111111111111111,
              "#46039f"
             ],
             [
              0.2222222222222222,
              "#7201a8"
             ],
             [
              0.3333333333333333,
              "#9c179e"
             ],
             [
              0.4444444444444444,
              "#bd3786"
             ],
             [
              0.5555555555555556,
              "#d8576b"
             ],
             [
              0.6666666666666666,
              "#ed7953"
             ],
             [
              0.7777777777777778,
              "#fb9f3a"
             ],
             [
              0.8888888888888888,
              "#fdca26"
             ],
             [
              1,
              "#f0f921"
             ]
            ],
            "type": "surface"
           }
          ],
          "table": [
           {
            "cells": {
             "fill": {
              "color": "#EBF0F8"
             },
             "line": {
              "color": "white"
             }
            },
            "header": {
             "fill": {
              "color": "#C8D4E3"
             },
             "line": {
              "color": "white"
             }
            },
            "type": "table"
           }
          ]
         },
         "layout": {
          "annotationdefaults": {
           "arrowcolor": "#2a3f5f",
           "arrowhead": 0,
           "arrowwidth": 1
          },
          "autotypenumbers": "strict",
          "coloraxis": {
           "colorbar": {
            "outlinewidth": 0,
            "ticks": ""
           }
          },
          "colorscale": {
           "diverging": [
            [
             0,
             "#8e0152"
            ],
            [
             0.1,
             "#c51b7d"
            ],
            [
             0.2,
             "#de77ae"
            ],
            [
             0.3,
             "#f1b6da"
            ],
            [
             0.4,
             "#fde0ef"
            ],
            [
             0.5,
             "#f7f7f7"
            ],
            [
             0.6,
             "#e6f5d0"
            ],
            [
             0.7,
             "#b8e186"
            ],
            [
             0.8,
             "#7fbc41"
            ],
            [
             0.9,
             "#4d9221"
            ],
            [
             1,
             "#276419"
            ]
           ],
           "sequential": [
            [
             0,
             "#0d0887"
            ],
            [
             0.1111111111111111,
             "#46039f"
            ],
            [
             0.2222222222222222,
             "#7201a8"
            ],
            [
             0.3333333333333333,
             "#9c179e"
            ],
            [
             0.4444444444444444,
             "#bd3786"
            ],
            [
             0.5555555555555556,
             "#d8576b"
            ],
            [
             0.6666666666666666,
             "#ed7953"
            ],
            [
             0.7777777777777778,
             "#fb9f3a"
            ],
            [
             0.8888888888888888,
             "#fdca26"
            ],
            [
             1,
             "#f0f921"
            ]
           ],
           "sequentialminus": [
            [
             0,
             "#0d0887"
            ],
            [
             0.1111111111111111,
             "#46039f"
            ],
            [
             0.2222222222222222,
             "#7201a8"
            ],
            [
             0.3333333333333333,
             "#9c179e"
            ],
            [
             0.4444444444444444,
             "#bd3786"
            ],
            [
             0.5555555555555556,
             "#d8576b"
            ],
            [
             0.6666666666666666,
             "#ed7953"
            ],
            [
             0.7777777777777778,
             "#fb9f3a"
            ],
            [
             0.8888888888888888,
             "#fdca26"
            ],
            [
             1,
             "#f0f921"
            ]
           ]
          },
          "colorway": [
           "#636efa",
           "#EF553B",
           "#00cc96",
           "#ab63fa",
           "#FFA15A",
           "#19d3f3",
           "#FF6692",
           "#B6E880",
           "#FF97FF",
           "#FECB52"
          ],
          "font": {
           "color": "#2a3f5f"
          },
          "geo": {
           "bgcolor": "white",
           "lakecolor": "white",
           "landcolor": "#E5ECF6",
           "showlakes": true,
           "showland": true,
           "subunitcolor": "white"
          },
          "hoverlabel": {
           "align": "left"
          },
          "hovermode": "closest",
          "mapbox": {
           "style": "light"
          },
          "paper_bgcolor": "white",
          "plot_bgcolor": "#E5ECF6",
          "polar": {
           "angularaxis": {
            "gridcolor": "white",
            "linecolor": "white",
            "ticks": ""
           },
           "bgcolor": "#E5ECF6",
           "radialaxis": {
            "gridcolor": "white",
            "linecolor": "white",
            "ticks": ""
           }
          },
          "scene": {
           "xaxis": {
            "backgroundcolor": "#E5ECF6",
            "gridcolor": "white",
            "gridwidth": 2,
            "linecolor": "white",
            "showbackground": true,
            "ticks": "",
            "zerolinecolor": "white"
           },
           "yaxis": {
            "backgroundcolor": "#E5ECF6",
            "gridcolor": "white",
            "gridwidth": 2,
            "linecolor": "white",
            "showbackground": true,
            "ticks": "",
            "zerolinecolor": "white"
           },
           "zaxis": {
            "backgroundcolor": "#E5ECF6",
            "gridcolor": "white",
            "gridwidth": 2,
            "linecolor": "white",
            "showbackground": true,
            "ticks": "",
            "zerolinecolor": "white"
           }
          },
          "shapedefaults": {
           "line": {
            "color": "#2a3f5f"
           }
          },
          "ternary": {
           "aaxis": {
            "gridcolor": "white",
            "linecolor": "white",
            "ticks": ""
           },
           "baxis": {
            "gridcolor": "white",
            "linecolor": "white",
            "ticks": ""
           },
           "bgcolor": "#E5ECF6",
           "caxis": {
            "gridcolor": "white",
            "linecolor": "white",
            "ticks": ""
           }
          },
          "title": {
           "x": 0.05
          },
          "xaxis": {
           "automargin": true,
           "gridcolor": "white",
           "linecolor": "white",
           "ticks": "",
           "title": {
            "standoff": 15
           },
           "zerolinecolor": "white",
           "zerolinewidth": 2
          },
          "yaxis": {
           "automargin": true,
           "gridcolor": "white",
           "linecolor": "white",
           "ticks": "",
           "title": {
            "standoff": 15
           },
           "zerolinecolor": "white",
           "zerolinewidth": 2
          }
         }
        },
        "title": {
         "text": "(LPC outlet temperature) (◦R), (LPT outlet temperature) (◦R), (HPC outlet temperature) (◦R) vs time_in_cycles"
        },
        "xaxis": {
         "anchor": "y",
         "domain": [
          0,
          1
         ],
         "title": {
          "text": "time_in_cycles"
         }
        },
        "yaxis": {
         "anchor": "x",
         "domain": [
          0,
          1
         ],
         "title": {
          "text": "Value"
         }
        }
       }
      }
     },
     "metadata": {},
     "output_type": "display_data"
    }
   ],
   "source": [
    "# Call the function to plot multiple variables vs target\n",
    "plot_multiple_variables_vs_target(df=dataFrame, target_column=\"time_in_cycles\", y_columns=[\"(LPC outlet temperature) (◦R)\", \"(LPT outlet temperature) (◦R)\", \"(HPC outlet temperature) (◦R)\"])\n"
   ]
  },
  {
   "cell_type": "code",
   "execution_count": 203,
   "metadata": {},
   "outputs": [
    {
     "data": {
      "application/vnd.plotly.v1+json": {
       "config": {
        "plotlyServerURL": "https://plot.ly"
       },
       "data": [
        {
         "hovertemplate": "Variable=(Fan inlet temperature) (◦R)<br>(HPC outlet pressure) (psia)=%{x}<br>Value=%{y}<extra></extra>",
         "legendgroup": "(Fan inlet temperature) (◦R)",
         "line": {
          "color": "#636efa",
          "dash": "solid"
         },
         "marker": {
          "symbol": "circle"
         },
         "mode": "lines",
         "name": "(Fan inlet temperature) (◦R)",
         "orientation": "v",
         "showlegend": true,
         "type": "scatter",
         "x": [
          554.36,
          553.75,
          554.26,
          554.45,
          554,
          554.67,
          554.34,
          553.85,
          553.69,
          553.59,
          554.54,
          554.52,
          553.44,
          554.48,
          553.64,
          553.94,
          553.8,
          554.2,
          554.18,
          554.81,
          554.08,
          553.63,
          553.98,
          553.49,
          554,
          554.11,
          554.07,
          554.68,
          554.25,
          554.37,
          554.13,
          554.96,
          554.61,
          554.3,
          554.3,
          554.53,
          554.63,
          554.7,
          553.97,
          554.57,
          553.72,
          553.94,
          553.68,
          554.15,
          553.83,
          553.76,
          554.38,
          554.02,
          554.23,
          553.92,
          553.73,
          553.04,
          554.16,
          553.95,
          554.45,
          553.98,
          553.42,
          554.14,
          554.62,
          554,
          554.09,
          554.45,
          553.48,
          553.88,
          553.97,
          554,
          554.31,
          554.04,
          554.65,
          554.01,
          554.06,
          553.76,
          553.88,
          554.03,
          553.6,
          553.66,
          554.61,
          553.47,
          553.77,
          553.91,
          553.88,
          554.18,
          553.49,
          553.91,
          554.4,
          553.69,
          554.1,
          554.48,
          553.91,
          552.88,
          553.54,
          553.81,
          554.07,
          553.86,
          553.91,
          553.34,
          553.4,
          552.75,
          553.76,
          554.22,
          553.37,
          553.42,
          553.64,
          553.66,
          553.11,
          553.6,
          553.74,
          554.43,
          553.59,
          554.08,
          553.49,
          553.19,
          552.91,
          554.29,
          554.13,
          554.4,
          554.59,
          554.25,
          553.77,
          553.66,
          553.7,
          553.43,
          552.64,
          552.26,
          552.44,
          553.72,
          553.81,
          552.74,
          552.42,
          552.66,
          553.7,
          553.16,
          553.82,
          553.2,
          553.09,
          554.18,
          553.39,
          552.91,
          553.25,
          552.15,
          553.45,
          553.11,
          553.62,
          553.77,
          553.03,
          552.6,
          553.09,
          552.84,
          552.54,
          553.57,
          552.41,
          552.62,
          552.68,
          552.57,
          552.89,
          553.24,
          552.32,
          553.19,
          552.18,
          551.87,
          552.8,
          552.68,
          552.41,
          551.9,
          552.79,
          552.13,
          552.57,
          552.09,
          552.71,
          552.02,
          552.71,
          551.69,
          552.13,
          552.32,
          551.64,
          551.91,
          551.93,
          552.18,
          551.57,
          552.91,
          551.83,
          551.9,
          551.38,
          551,
          551.64,
          552.57,
          551.08,
          551.94,
          550.7,
          551.29,
          550.92,
          551.25
         ],
         "xaxis": "x",
         "y": [
          518.67,
          518.67,
          518.67,
          518.67,
          518.67,
          518.67,
          518.67,
          518.67,
          518.67,
          518.67,
          518.67,
          518.67,
          518.67,
          518.67,
          518.67,
          518.67,
          518.67,
          518.67,
          518.67,
          518.67,
          518.67,
          518.67,
          518.67,
          518.67,
          518.67,
          518.67,
          518.67,
          518.67,
          518.67,
          518.67,
          518.67,
          518.67,
          518.67,
          518.67,
          518.67,
          518.67,
          518.67,
          518.67,
          518.67,
          518.67,
          518.67,
          518.67,
          518.67,
          518.67,
          518.67,
          518.67,
          518.67,
          518.67,
          518.67,
          518.67,
          518.67,
          518.67,
          518.67,
          518.67,
          518.67,
          518.67,
          518.67,
          518.67,
          518.67,
          518.67,
          518.67,
          518.67,
          518.67,
          518.67,
          518.67,
          518.67,
          518.67,
          518.67,
          518.67,
          518.67,
          518.67,
          518.67,
          518.67,
          518.67,
          518.67,
          518.67,
          518.67,
          518.67,
          518.67,
          518.67,
          518.67,
          518.67,
          518.67,
          518.67,
          518.67,
          518.67,
          518.67,
          518.67,
          518.67,
          518.67,
          518.67,
          518.67,
          518.67,
          518.67,
          518.67,
          518.67,
          518.67,
          518.67,
          518.67,
          518.67,
          518.67,
          518.67,
          518.67,
          518.67,
          518.67,
          518.67,
          518.67,
          518.67,
          518.67,
          518.67,
          518.67,
          518.67,
          518.67,
          518.67,
          518.67,
          518.67,
          518.67,
          518.67,
          518.67,
          518.67,
          518.67,
          518.67,
          518.67,
          518.67,
          518.67,
          518.67,
          518.67,
          518.67,
          518.67,
          518.67,
          518.67,
          518.67,
          518.67,
          518.67,
          518.67,
          518.67,
          518.67,
          518.67,
          518.67,
          518.67,
          518.67,
          518.67,
          518.67,
          518.67,
          518.67,
          518.67,
          518.67,
          518.67,
          518.67,
          518.67,
          518.67,
          518.67,
          518.67,
          518.67,
          518.67,
          518.67,
          518.67,
          518.67,
          518.67,
          518.67,
          518.67,
          518.67,
          518.67,
          518.67,
          518.67,
          518.67,
          518.67,
          518.67,
          518.67,
          518.67,
          518.67,
          518.67,
          518.67,
          518.67,
          518.67,
          518.67,
          518.67,
          518.67,
          518.67,
          518.67,
          518.67,
          518.67,
          518.67,
          518.67,
          518.67,
          518.67,
          518.67,
          518.67,
          518.67,
          518.67,
          518.67,
          518.67
         ],
         "yaxis": "y"
        },
        {
         "hovertemplate": "Variable=(LPC outlet temperature) (◦R)<br>(HPC outlet pressure) (psia)=%{x}<br>Value=%{y}<extra></extra>",
         "legendgroup": "(LPC outlet temperature) (◦R)",
         "line": {
          "color": "#EF553B",
          "dash": "solid"
         },
         "marker": {
          "symbol": "circle"
         },
         "mode": "lines",
         "name": "(LPC outlet temperature) (◦R)",
         "orientation": "v",
         "showlegend": true,
         "type": "scatter",
         "x": [
          554.36,
          553.75,
          554.26,
          554.45,
          554,
          554.67,
          554.34,
          553.85,
          553.69,
          553.59,
          554.54,
          554.52,
          553.44,
          554.48,
          553.64,
          553.94,
          553.8,
          554.2,
          554.18,
          554.81,
          554.08,
          553.63,
          553.98,
          553.49,
          554,
          554.11,
          554.07,
          554.68,
          554.25,
          554.37,
          554.13,
          554.96,
          554.61,
          554.3,
          554.3,
          554.53,
          554.63,
          554.7,
          553.97,
          554.57,
          553.72,
          553.94,
          553.68,
          554.15,
          553.83,
          553.76,
          554.38,
          554.02,
          554.23,
          553.92,
          553.73,
          553.04,
          554.16,
          553.95,
          554.45,
          553.98,
          553.42,
          554.14,
          554.62,
          554,
          554.09,
          554.45,
          553.48,
          553.88,
          553.97,
          554,
          554.31,
          554.04,
          554.65,
          554.01,
          554.06,
          553.76,
          553.88,
          554.03,
          553.6,
          553.66,
          554.61,
          553.47,
          553.77,
          553.91,
          553.88,
          554.18,
          553.49,
          553.91,
          554.4,
          553.69,
          554.1,
          554.48,
          553.91,
          552.88,
          553.54,
          553.81,
          554.07,
          553.86,
          553.91,
          553.34,
          553.4,
          552.75,
          553.76,
          554.22,
          553.37,
          553.42,
          553.64,
          553.66,
          553.11,
          553.6,
          553.74,
          554.43,
          553.59,
          554.08,
          553.49,
          553.19,
          552.91,
          554.29,
          554.13,
          554.4,
          554.59,
          554.25,
          553.77,
          553.66,
          553.7,
          553.43,
          552.64,
          552.26,
          552.44,
          553.72,
          553.81,
          552.74,
          552.42,
          552.66,
          553.7,
          553.16,
          553.82,
          553.2,
          553.09,
          554.18,
          553.39,
          552.91,
          553.25,
          552.15,
          553.45,
          553.11,
          553.62,
          553.77,
          553.03,
          552.6,
          553.09,
          552.84,
          552.54,
          553.57,
          552.41,
          552.62,
          552.68,
          552.57,
          552.89,
          553.24,
          552.32,
          553.19,
          552.18,
          551.87,
          552.8,
          552.68,
          552.41,
          551.9,
          552.79,
          552.13,
          552.57,
          552.09,
          552.71,
          552.02,
          552.71,
          551.69,
          552.13,
          552.32,
          551.64,
          551.91,
          551.93,
          552.18,
          551.57,
          552.91,
          551.83,
          551.9,
          551.38,
          551,
          551.64,
          552.57,
          551.08,
          551.94,
          550.7,
          551.29,
          550.92,
          551.25
         ],
         "xaxis": "x",
         "y": [
          641.82,
          642.15,
          642.35,
          642.35,
          642.37,
          642.1,
          642.48,
          642.56,
          642.12,
          641.71,
          642.28,
          642.06,
          643.07,
          642.35,
          642.43,
          642.13,
          642.58,
          642.62,
          641.79,
          643.04,
          642.37,
          642.77,
          642.14,
          642.38,
          642.77,
          642.16,
          642.44,
          642.35,
          641.91,
          642.2,
          642.02,
          642.33,
          642.71,
          642.54,
          642.44,
          642.54,
          641.99,
          641.93,
          642.01,
          642.24,
          642.4,
          642.12,
          642.24,
          641.93,
          642.53,
          642.43,
          642.21,
          641.89,
          642.23,
          642.77,
          642.81,
          642.76,
          642.61,
          642.42,
          642.41,
          642.49,
          642.13,
          641.9,
          642.33,
          642.34,
          642.1,
          642.17,
          642.6,
          642.23,
          642.28,
          642.5,
          642.33,
          642.51,
          642.44,
          642.22,
          642.21,
          642.41,
          642.29,
          642.96,
          641.96,
          642.21,
          642.55,
          641.99,
          642.12,
          641.94,
          642.73,
          642.04,
          642.66,
          642.64,
          642.28,
          641.84,
          642.33,
          641.96,
          642.24,
          642.67,
          641.98,
          642.89,
          642.85,
          642.45,
          642.86,
          642.19,
          642.07,
          642,
          642.46,
          642.22,
          642.75,
          642.85,
          642.21,
          642.29,
          642.01,
          642.68,
          642.53,
          643.49,
          642.49,
          642.55,
          642.67,
          642.66,
          642.68,
          642.31,
          642.66,
          642.64,
          642.38,
          642.34,
          642.67,
          642.81,
          642.63,
          643.3,
          643.39,
          642.48,
          642.96,
          642.49,
          642.99,
          642.47,
          642.41,
          642.7,
          643.01,
          643.19,
          642.45,
          642.85,
          642.45,
          642.84,
          642.43,
          642.79,
          643.11,
          643.05,
          642.39,
          642.51,
          642.77,
          643.09,
          642.95,
          642.72,
          642.25,
          643.02,
          642.9,
          643.06,
          642.82,
          642.67,
          642.99,
          642.81,
          642.83,
          643.04,
          642.2,
          642.88,
          642.89,
          643.45,
          643,
          643.15,
          642.85,
          643.17,
          642.76,
          643.34,
          643.02,
          642.68,
          643.2,
          642.92,
          643.26,
          643.33,
          642.97,
          642.64,
          643.61,
          642.86,
          643.79,
          643.38,
          642.86,
          643.58,
          643.44,
          644.21,
          643.24,
          644.07,
          643.8,
          643.51,
          643.32,
          643.75,
          644.18,
          643.64,
          643.34,
          643.54
         ],
         "yaxis": "y"
        }
       ],
       "layout": {
        "legend": {
         "title": {
          "text": "Variable"
         },
         "tracegroupgap": 0
        },
        "template": {
         "data": {
          "bar": [
           {
            "error_x": {
             "color": "#2a3f5f"
            },
            "error_y": {
             "color": "#2a3f5f"
            },
            "marker": {
             "line": {
              "color": "#E5ECF6",
              "width": 0.5
             },
             "pattern": {
              "fillmode": "overlay",
              "size": 10,
              "solidity": 0.2
             }
            },
            "type": "bar"
           }
          ],
          "barpolar": [
           {
            "marker": {
             "line": {
              "color": "#E5ECF6",
              "width": 0.5
             },
             "pattern": {
              "fillmode": "overlay",
              "size": 10,
              "solidity": 0.2
             }
            },
            "type": "barpolar"
           }
          ],
          "carpet": [
           {
            "aaxis": {
             "endlinecolor": "#2a3f5f",
             "gridcolor": "white",
             "linecolor": "white",
             "minorgridcolor": "white",
             "startlinecolor": "#2a3f5f"
            },
            "baxis": {
             "endlinecolor": "#2a3f5f",
             "gridcolor": "white",
             "linecolor": "white",
             "minorgridcolor": "white",
             "startlinecolor": "#2a3f5f"
            },
            "type": "carpet"
           }
          ],
          "choropleth": [
           {
            "colorbar": {
             "outlinewidth": 0,
             "ticks": ""
            },
            "type": "choropleth"
           }
          ],
          "contour": [
           {
            "colorbar": {
             "outlinewidth": 0,
             "ticks": ""
            },
            "colorscale": [
             [
              0,
              "#0d0887"
             ],
             [
              0.1111111111111111,
              "#46039f"
             ],
             [
              0.2222222222222222,
              "#7201a8"
             ],
             [
              0.3333333333333333,
              "#9c179e"
             ],
             [
              0.4444444444444444,
              "#bd3786"
             ],
             [
              0.5555555555555556,
              "#d8576b"
             ],
             [
              0.6666666666666666,
              "#ed7953"
             ],
             [
              0.7777777777777778,
              "#fb9f3a"
             ],
             [
              0.8888888888888888,
              "#fdca26"
             ],
             [
              1,
              "#f0f921"
             ]
            ],
            "type": "contour"
           }
          ],
          "contourcarpet": [
           {
            "colorbar": {
             "outlinewidth": 0,
             "ticks": ""
            },
            "type": "contourcarpet"
           }
          ],
          "heatmap": [
           {
            "colorbar": {
             "outlinewidth": 0,
             "ticks": ""
            },
            "colorscale": [
             [
              0,
              "#0d0887"
             ],
             [
              0.1111111111111111,
              "#46039f"
             ],
             [
              0.2222222222222222,
              "#7201a8"
             ],
             [
              0.3333333333333333,
              "#9c179e"
             ],
             [
              0.4444444444444444,
              "#bd3786"
             ],
             [
              0.5555555555555556,
              "#d8576b"
             ],
             [
              0.6666666666666666,
              "#ed7953"
             ],
             [
              0.7777777777777778,
              "#fb9f3a"
             ],
             [
              0.8888888888888888,
              "#fdca26"
             ],
             [
              1,
              "#f0f921"
             ]
            ],
            "type": "heatmap"
           }
          ],
          "heatmapgl": [
           {
            "colorbar": {
             "outlinewidth": 0,
             "ticks": ""
            },
            "colorscale": [
             [
              0,
              "#0d0887"
             ],
             [
              0.1111111111111111,
              "#46039f"
             ],
             [
              0.2222222222222222,
              "#7201a8"
             ],
             [
              0.3333333333333333,
              "#9c179e"
             ],
             [
              0.4444444444444444,
              "#bd3786"
             ],
             [
              0.5555555555555556,
              "#d8576b"
             ],
             [
              0.6666666666666666,
              "#ed7953"
             ],
             [
              0.7777777777777778,
              "#fb9f3a"
             ],
             [
              0.8888888888888888,
              "#fdca26"
             ],
             [
              1,
              "#f0f921"
             ]
            ],
            "type": "heatmapgl"
           }
          ],
          "histogram": [
           {
            "marker": {
             "pattern": {
              "fillmode": "overlay",
              "size": 10,
              "solidity": 0.2
             }
            },
            "type": "histogram"
           }
          ],
          "histogram2d": [
           {
            "colorbar": {
             "outlinewidth": 0,
             "ticks": ""
            },
            "colorscale": [
             [
              0,
              "#0d0887"
             ],
             [
              0.1111111111111111,
              "#46039f"
             ],
             [
              0.2222222222222222,
              "#7201a8"
             ],
             [
              0.3333333333333333,
              "#9c179e"
             ],
             [
              0.4444444444444444,
              "#bd3786"
             ],
             [
              0.5555555555555556,
              "#d8576b"
             ],
             [
              0.6666666666666666,
              "#ed7953"
             ],
             [
              0.7777777777777778,
              "#fb9f3a"
             ],
             [
              0.8888888888888888,
              "#fdca26"
             ],
             [
              1,
              "#f0f921"
             ]
            ],
            "type": "histogram2d"
           }
          ],
          "histogram2dcontour": [
           {
            "colorbar": {
             "outlinewidth": 0,
             "ticks": ""
            },
            "colorscale": [
             [
              0,
              "#0d0887"
             ],
             [
              0.1111111111111111,
              "#46039f"
             ],
             [
              0.2222222222222222,
              "#7201a8"
             ],
             [
              0.3333333333333333,
              "#9c179e"
             ],
             [
              0.4444444444444444,
              "#bd3786"
             ],
             [
              0.5555555555555556,
              "#d8576b"
             ],
             [
              0.6666666666666666,
              "#ed7953"
             ],
             [
              0.7777777777777778,
              "#fb9f3a"
             ],
             [
              0.8888888888888888,
              "#fdca26"
             ],
             [
              1,
              "#f0f921"
             ]
            ],
            "type": "histogram2dcontour"
           }
          ],
          "mesh3d": [
           {
            "colorbar": {
             "outlinewidth": 0,
             "ticks": ""
            },
            "type": "mesh3d"
           }
          ],
          "parcoords": [
           {
            "line": {
             "colorbar": {
              "outlinewidth": 0,
              "ticks": ""
             }
            },
            "type": "parcoords"
           }
          ],
          "pie": [
           {
            "automargin": true,
            "type": "pie"
           }
          ],
          "scatter": [
           {
            "fillpattern": {
             "fillmode": "overlay",
             "size": 10,
             "solidity": 0.2
            },
            "type": "scatter"
           }
          ],
          "scatter3d": [
           {
            "line": {
             "colorbar": {
              "outlinewidth": 0,
              "ticks": ""
             }
            },
            "marker": {
             "colorbar": {
              "outlinewidth": 0,
              "ticks": ""
             }
            },
            "type": "scatter3d"
           }
          ],
          "scattercarpet": [
           {
            "marker": {
             "colorbar": {
              "outlinewidth": 0,
              "ticks": ""
             }
            },
            "type": "scattercarpet"
           }
          ],
          "scattergeo": [
           {
            "marker": {
             "colorbar": {
              "outlinewidth": 0,
              "ticks": ""
             }
            },
            "type": "scattergeo"
           }
          ],
          "scattergl": [
           {
            "marker": {
             "colorbar": {
              "outlinewidth": 0,
              "ticks": ""
             }
            },
            "type": "scattergl"
           }
          ],
          "scattermapbox": [
           {
            "marker": {
             "colorbar": {
              "outlinewidth": 0,
              "ticks": ""
             }
            },
            "type": "scattermapbox"
           }
          ],
          "scatterpolar": [
           {
            "marker": {
             "colorbar": {
              "outlinewidth": 0,
              "ticks": ""
             }
            },
            "type": "scatterpolar"
           }
          ],
          "scatterpolargl": [
           {
            "marker": {
             "colorbar": {
              "outlinewidth": 0,
              "ticks": ""
             }
            },
            "type": "scatterpolargl"
           }
          ],
          "scatterternary": [
           {
            "marker": {
             "colorbar": {
              "outlinewidth": 0,
              "ticks": ""
             }
            },
            "type": "scatterternary"
           }
          ],
          "surface": [
           {
            "colorbar": {
             "outlinewidth": 0,
             "ticks": ""
            },
            "colorscale": [
             [
              0,
              "#0d0887"
             ],
             [
              0.1111111111111111,
              "#46039f"
             ],
             [
              0.2222222222222222,
              "#7201a8"
             ],
             [
              0.3333333333333333,
              "#9c179e"
             ],
             [
              0.4444444444444444,
              "#bd3786"
             ],
             [
              0.5555555555555556,
              "#d8576b"
             ],
             [
              0.6666666666666666,
              "#ed7953"
             ],
             [
              0.7777777777777778,
              "#fb9f3a"
             ],
             [
              0.8888888888888888,
              "#fdca26"
             ],
             [
              1,
              "#f0f921"
             ]
            ],
            "type": "surface"
           }
          ],
          "table": [
           {
            "cells": {
             "fill": {
              "color": "#EBF0F8"
             },
             "line": {
              "color": "white"
             }
            },
            "header": {
             "fill": {
              "color": "#C8D4E3"
             },
             "line": {
              "color": "white"
             }
            },
            "type": "table"
           }
          ]
         },
         "layout": {
          "annotationdefaults": {
           "arrowcolor": "#2a3f5f",
           "arrowhead": 0,
           "arrowwidth": 1
          },
          "autotypenumbers": "strict",
          "coloraxis": {
           "colorbar": {
            "outlinewidth": 0,
            "ticks": ""
           }
          },
          "colorscale": {
           "diverging": [
            [
             0,
             "#8e0152"
            ],
            [
             0.1,
             "#c51b7d"
            ],
            [
             0.2,
             "#de77ae"
            ],
            [
             0.3,
             "#f1b6da"
            ],
            [
             0.4,
             "#fde0ef"
            ],
            [
             0.5,
             "#f7f7f7"
            ],
            [
             0.6,
             "#e6f5d0"
            ],
            [
             0.7,
             "#b8e186"
            ],
            [
             0.8,
             "#7fbc41"
            ],
            [
             0.9,
             "#4d9221"
            ],
            [
             1,
             "#276419"
            ]
           ],
           "sequential": [
            [
             0,
             "#0d0887"
            ],
            [
             0.1111111111111111,
             "#46039f"
            ],
            [
             0.2222222222222222,
             "#7201a8"
            ],
            [
             0.3333333333333333,
             "#9c179e"
            ],
            [
             0.4444444444444444,
             "#bd3786"
            ],
            [
             0.5555555555555556,
             "#d8576b"
            ],
            [
             0.6666666666666666,
             "#ed7953"
            ],
            [
             0.7777777777777778,
             "#fb9f3a"
            ],
            [
             0.8888888888888888,
             "#fdca26"
            ],
            [
             1,
             "#f0f921"
            ]
           ],
           "sequentialminus": [
            [
             0,
             "#0d0887"
            ],
            [
             0.1111111111111111,
             "#46039f"
            ],
            [
             0.2222222222222222,
             "#7201a8"
            ],
            [
             0.3333333333333333,
             "#9c179e"
            ],
            [
             0.4444444444444444,
             "#bd3786"
            ],
            [
             0.5555555555555556,
             "#d8576b"
            ],
            [
             0.6666666666666666,
             "#ed7953"
            ],
            [
             0.7777777777777778,
             "#fb9f3a"
            ],
            [
             0.8888888888888888,
             "#fdca26"
            ],
            [
             1,
             "#f0f921"
            ]
           ]
          },
          "colorway": [
           "#636efa",
           "#EF553B",
           "#00cc96",
           "#ab63fa",
           "#FFA15A",
           "#19d3f3",
           "#FF6692",
           "#B6E880",
           "#FF97FF",
           "#FECB52"
          ],
          "font": {
           "color": "#2a3f5f"
          },
          "geo": {
           "bgcolor": "white",
           "lakecolor": "white",
           "landcolor": "#E5ECF6",
           "showlakes": true,
           "showland": true,
           "subunitcolor": "white"
          },
          "hoverlabel": {
           "align": "left"
          },
          "hovermode": "closest",
          "mapbox": {
           "style": "light"
          },
          "paper_bgcolor": "white",
          "plot_bgcolor": "#E5ECF6",
          "polar": {
           "angularaxis": {
            "gridcolor": "white",
            "linecolor": "white",
            "ticks": ""
           },
           "bgcolor": "#E5ECF6",
           "radialaxis": {
            "gridcolor": "white",
            "linecolor": "white",
            "ticks": ""
           }
          },
          "scene": {
           "xaxis": {
            "backgroundcolor": "#E5ECF6",
            "gridcolor": "white",
            "gridwidth": 2,
            "linecolor": "white",
            "showbackground": true,
            "ticks": "",
            "zerolinecolor": "white"
           },
           "yaxis": {
            "backgroundcolor": "#E5ECF6",
            "gridcolor": "white",
            "gridwidth": 2,
            "linecolor": "white",
            "showbackground": true,
            "ticks": "",
            "zerolinecolor": "white"
           },
           "zaxis": {
            "backgroundcolor": "#E5ECF6",
            "gridcolor": "white",
            "gridwidth": 2,
            "linecolor": "white",
            "showbackground": true,
            "ticks": "",
            "zerolinecolor": "white"
           }
          },
          "shapedefaults": {
           "line": {
            "color": "#2a3f5f"
           }
          },
          "ternary": {
           "aaxis": {
            "gridcolor": "white",
            "linecolor": "white",
            "ticks": ""
           },
           "baxis": {
            "gridcolor": "white",
            "linecolor": "white",
            "ticks": ""
           },
           "bgcolor": "#E5ECF6",
           "caxis": {
            "gridcolor": "white",
            "linecolor": "white",
            "ticks": ""
           }
          },
          "title": {
           "x": 0.05
          },
          "xaxis": {
           "automargin": true,
           "gridcolor": "white",
           "linecolor": "white",
           "ticks": "",
           "title": {
            "standoff": 15
           },
           "zerolinecolor": "white",
           "zerolinewidth": 2
          },
          "yaxis": {
           "automargin": true,
           "gridcolor": "white",
           "linecolor": "white",
           "ticks": "",
           "title": {
            "standoff": 15
           },
           "zerolinecolor": "white",
           "zerolinewidth": 2
          }
         }
        },
        "title": {
         "text": "(Fan inlet temperature) (◦R), (LPC outlet temperature) (◦R) vs (HPC outlet pressure) (psia)"
        },
        "xaxis": {
         "anchor": "y",
         "domain": [
          0,
          1
         ],
         "title": {
          "text": "(HPC outlet pressure) (psia)"
         }
        },
        "yaxis": {
         "anchor": "x",
         "domain": [
          0,
          1
         ],
         "title": {
          "text": "Value"
         }
        }
       }
      }
     },
     "metadata": {},
     "output_type": "display_data"
    }
   ],
   "source": [
    "plot_multiple_variables_vs_target(df=dataFrame, target_column=\"(HPC outlet pressure) (psia)\", y_columns=[\"(Fan inlet temperature) (◦R)\", \"(LPC outlet temperature) (◦R)\"])"
   ]
  },
  {
   "cell_type": "markdown",
   "metadata": {},
   "source": [
    "## Plotly 3D scatter"
   ]
  },
  {
   "cell_type": "code",
   "execution_count": 204,
   "metadata": {},
   "outputs": [],
   "source": [
    "import plotly.graph_objects as go\n",
    "\n",
    "def plot_3d_scatter_plotly(df, x_col, y_col, z_col, param, width=900, height=700, title=None, colorscale = \"viridis\", template = \"plotly_dark\"):\n",
    "    \"\"\"\n",
    "    Creates an interactive 3D scatter plot using Plotly with improved scaling and sizing.\n",
    "\n",
    "    Parameters:\n",
    "        df (pd.DataFrame): DataFrame containing the data.\n",
    "        x_col (str): Column name for the x-axis (e.g., \"Mach\").\n",
    "        y_col (str): Column name for the y-axis (e.g., \"Altitude\").\n",
    "        z_col (str): Column name for the z-axis (e.g., \"Tt\" or Temperature Offset).\n",
    "        param (str): Column name of the parameter to visualize (e.g., \"Power_Output\"). \n",
    "        width (int): Width of the plot (default is 900 pixels).\n",
    "        height (int): Height of the plot (default is 700 pixels).\n",
    "        colorscale (str): color of the data points. (\"viridis\", \"sunset\" etc.)\n",
    "        template (str): background color. (\"plotly\", \"plotly_white\", \"plotly_dark\", \"ggplot2\", \"seaborn\", \"simple_white\", \"none\")\n",
    "    \"\"\"\n",
    "    # Ensure the parameter column is numeric and remove any NaNs\n",
    "    df[param] = pd.to_numeric(df[param], errors=\"coerce\")\n",
    "    df = df.dropna(subset=[param])\n",
    "\n",
    "    # Calculate axis ranges to include all data\n",
    "    x_range = [df[x_col].min(), df[x_col].max()]\n",
    "    y_range = [df[y_col].min(), df[y_col].max()]\n",
    "    z_range = [df[z_col].min(), df[z_col].max()]\n",
    "\n",
    "    # Create the 3D scatter plot\n",
    "    fig = go.Figure(data=[go.Scatter3d(\n",
    "        x = df[x_col],\n",
    "        y = df[y_col],\n",
    "        z = df[z_col],\n",
    "        mode = 'markers',\n",
    "        marker = dict(\n",
    "            size = 6,\n",
    "            color = df[param],        # Color by the parameter values\n",
    "            colorscale = colorscale,     # Choose a colorscale from Plotly's list\n",
    "            colorbar = dict(title=param),\n",
    "            opacity = 0.8,\n",
    "        )\n",
    "    )])\n",
    "\n",
    "    # Update layout for proper sizing and axis scaling\n",
    "    fig.update_layout(\n",
    "        title=title,\n",
    "        width=width,\n",
    "        height=height,\n",
    "        template=template,\n",
    "        scene=dict(\n",
    "            xaxis=dict(title=x_col, range=x_range, autorange=False),\n",
    "            yaxis=dict(title=y_col, range=y_range, autorange=False),\n",
    "            zaxis=dict(title=z_col, range=z_range, autorange=False)\n",
    "        ),\n",
    "        margin=dict(l=50, r=50, b=50, t=50)\n",
    "    )\n",
    "\n",
    "    fig.show()"
   ]
  },
  {
   "cell_type": "code",
   "execution_count": 205,
   "metadata": {},
   "outputs": [
    {
     "data": {
      "application/vnd.plotly.v1+json": {
       "config": {
        "plotlyServerURL": "https://plot.ly"
       },
       "data": [
        {
         "marker": {
          "color": [
           9046.19,
           9044.07,
           9052.94,
           9049.48,
           9055.15,
           9049.68,
           9059.13,
           9040.8,
           9046.46,
           9051.7,
           9049.61,
           9049.37,
           9046.82,
           9047.37,
           9052.22,
           9049.34,
           9054.92,
           9049.55,
           9053.99,
           9045.9,
           9048.15,
           9061.21,
           9046.28,
           9043.76,
           9054.16,
           9047.11,
           9047.96,
           9049.84,
           9050.47,
           9045.62,
           9058.78,
           9050.97,
           9047.13,
           9046.46,
           9045.76,
           9044.56,
           9055.44,
           9055.27,
           9051.76,
           9052.98,
           9048.99,
           9057.06,
           9057.88,
           9046.87,
           9060.32,
           9060.38,
           9052.04,
           9045.26,
           9050.64,
           9048.6,
           9047.09,
           9056.01,
           9051.15,
           9056.29,
           9048.94,
           9042.42,
           9050.8,
           9050.33,
           9050.06,
           9051.69,
           9050.58,
           9053.62,
           9049.96,
           9043.67,
           9044.01,
           9059.45,
           9050.24,
           9051.78,
           9050.59,
           9053.43,
           9046.09,
           9054.42,
           9049.64,
           9045.85,
           9042.32,
           9056.55,
           9046.44,
           9042.37,
           9047.86,
           9043.67,
           9045.31,
           9048.22,
           9049.08,
           9050.47,
           9056.08,
           9047.26,
           9050.52,
           9046.73,
           9055.24,
           9051.27,
           9050.72,
           9048.36,
           9047.87,
           9045.83,
           9048.85,
           9048.71,
           9046.1,
           9045.49,
           9045.14,
           9045.72,
           9052.3,
           9051.36,
           9053.28,
           9044.73,
           9048.36,
           9049.82,
           9048.68,
           9047.03,
           9051.13,
           9051.4,
           9051.64,
           9051.28,
           9053.15,
           9046.58,
           9050.37,
           9049.71,
           9049.61,
           9051.12,
           9045.89,
           9048.72,
           9040.97,
           9042.39,
           9049.44,
           9053.03,
           9046.16,
           9049.11,
           9047.9,
           9056.59,
           9046.08,
           9042.97,
           9045.1,
           9044.04,
           9050.95,
           9046.16,
           9050.65,
           9040.89,
           9040.55,
           9049.64,
           9044.81,
           9055.85,
           9050.86,
           9046.61,
           9050.63,
           9049.33,
           9046.92,
           9045.99,
           9041.24,
           9040.93,
           9057.24,
           9044.76,
           9048.12,
           9043.9,
           9049.43,
           9049.08,
           9049.56,
           9044.21,
           9053.12,
           9049.22,
           9048.06,
           9045.42,
           9048.06,
           9044.45,
           9049.24,
           9048.92,
           9039.09,
           9043.11,
           9042.05,
           9036.35,
           9055.18,
           9044.03,
           9042.12,
           9039.1,
           9048.82,
           9041.25,
           9042.66,
           9045.74,
           9046.2,
           9046.17,
           9044.23,
           9039.33,
           9038.29,
           9041.23,
           9040.94,
           9047.91,
           9043.71,
           9051.37,
           9037.71,
           9037.91,
           9044.55,
           9040.58,
           9042.76,
           9033.22
          ],
          "colorbar": {
           "title": {
            "text": "(Physical core speed) (rpm)"
           }
          },
          "colorscale": [
           [
            0,
            "#440154"
           ],
           [
            0.1111111111111111,
            "#482878"
           ],
           [
            0.2222222222222222,
            "#3e4989"
           ],
           [
            0.3333333333333333,
            "#31688e"
           ],
           [
            0.4444444444444444,
            "#26828e"
           ],
           [
            0.5555555555555556,
            "#1f9e89"
           ],
           [
            0.6666666666666666,
            "#35b779"
           ],
           [
            0.7777777777777778,
            "#6ece58"
           ],
           [
            0.8888888888888888,
            "#b5de2b"
           ],
           [
            1,
            "#fde725"
           ]
          ],
          "opacity": 0.8,
          "size": 6
         },
         "mode": "markers",
         "type": "scatter3d",
         "x": [
          1,
          2,
          3,
          4,
          5,
          6,
          7,
          8,
          9,
          10,
          11,
          12,
          13,
          14,
          15,
          16,
          17,
          18,
          19,
          20,
          21,
          22,
          23,
          24,
          25,
          26,
          27,
          28,
          29,
          30,
          31,
          32,
          33,
          34,
          35,
          36,
          37,
          38,
          39,
          40,
          41,
          42,
          43,
          44,
          45,
          46,
          47,
          48,
          49,
          50,
          51,
          52,
          53,
          54,
          55,
          56,
          57,
          58,
          59,
          60,
          61,
          62,
          63,
          64,
          65,
          66,
          67,
          68,
          69,
          70,
          71,
          72,
          73,
          74,
          75,
          76,
          77,
          78,
          79,
          80,
          81,
          82,
          83,
          84,
          85,
          86,
          87,
          88,
          89,
          90,
          91,
          92,
          93,
          94,
          95,
          96,
          97,
          98,
          99,
          100,
          101,
          102,
          103,
          104,
          105,
          106,
          107,
          108,
          109,
          110,
          111,
          112,
          113,
          114,
          115,
          116,
          117,
          118,
          119,
          120,
          121,
          122,
          123,
          124,
          125,
          126,
          127,
          128,
          129,
          130,
          131,
          132,
          133,
          134,
          135,
          136,
          137,
          138,
          139,
          140,
          141,
          142,
          143,
          144,
          145,
          146,
          147,
          148,
          149,
          150,
          151,
          152,
          153,
          154,
          155,
          156,
          157,
          158,
          159,
          160,
          161,
          162,
          163,
          164,
          165,
          166,
          167,
          168,
          169,
          170,
          171,
          172,
          173,
          174,
          175,
          176,
          177,
          178,
          179,
          180,
          181,
          182,
          183,
          184,
          185,
          186,
          187,
          188,
          189,
          190,
          191,
          192
         ],
         "y": [
          2388.06,
          2388.04,
          2388.08,
          2388.11,
          2388.06,
          2388.02,
          2388.02,
          2388,
          2388.05,
          2388.05,
          2388.05,
          2388.09,
          2388.12,
          2388.09,
          2388.11,
          2388.05,
          2388.06,
          2388.05,
          2388.04,
          2388.05,
          2388.11,
          2388.04,
          2388.05,
          2388.12,
          2388.02,
          2388.07,
          2388.02,
          2388.12,
          2388.05,
          2388.07,
          2388.08,
          2388.04,
          2388.04,
          2388.03,
          2388.04,
          2388.01,
          2388.07,
          2388.08,
          2388.02,
          2388.06,
          2388.06,
          2388.08,
          2388.03,
          2388.04,
          2388.08,
          2388.06,
          2388.06,
          2388.08,
          2388.07,
          2388.06,
          2388.02,
          2388.04,
          2388.05,
          2388.04,
          2388.04,
          2388.01,
          2388.05,
          2388.09,
          2388.07,
          2388.06,
          2388.11,
          2388.1,
          2388.06,
          2388.1,
          2388.03,
          2388.06,
          2388.1,
          2388.1,
          2388.07,
          2388.11,
          2388.03,
          2388.07,
          2388.03,
          2388.07,
          2388.07,
          2388.02,
          2388.06,
          2388.08,
          2388.04,
          2388.06,
          2388.1,
          2388.1,
          2388.08,
          2388.05,
          2388.01,
          2388.1,
          2388.14,
          2388.07,
          2388.05,
          2388.1,
          2388.04,
          2388.14,
          2388.07,
          2388.15,
          2388.02,
          2388.07,
          2388.09,
          2388.06,
          2388.08,
          2388.07,
          2388.06,
          2388.15,
          2388.09,
          2388.08,
          2388.09,
          2388.08,
          2388.07,
          2388.14,
          2388.1,
          2388.13,
          2388.12,
          2388.06,
          2388.1,
          2388.07,
          2388.11,
          2388.08,
          2388.1,
          2388.1,
          2388.1,
          2388.1,
          2388.07,
          2388.15,
          2388.12,
          2388.13,
          2388.13,
          2388.05,
          2388.09,
          2388.13,
          2388.09,
          2388.13,
          2388.11,
          2388.17,
          2388.11,
          2388.11,
          2388.14,
          2388.06,
          2388.14,
          2388.11,
          2388.06,
          2388.17,
          2388.13,
          2388.1,
          2388.13,
          2388.17,
          2388.13,
          2388.12,
          2388.14,
          2388.16,
          2388.17,
          2388.12,
          2388.14,
          2388.18,
          2388.14,
          2388.14,
          2388.16,
          2388.26,
          2388.14,
          2388.2,
          2388.13,
          2388.21,
          2388.18,
          2388.15,
          2388.2,
          2388.17,
          2388.19,
          2388.22,
          2388.23,
          2388.22,
          2388.25,
          2388.21,
          2388.2,
          2388.24,
          2388.22,
          2388.22,
          2388.23,
          2388.23,
          2388.25,
          2388.23,
          2388.26,
          2388.21,
          2388.23,
          2388.26,
          2388.21,
          2388.24,
          2388.29,
          2388.21,
          2388.29,
          2388.31,
          2388.27,
          2388.29,
          2388.28,
          2388.32
         ],
         "z": [
          1400.6,
          1403.14,
          1404.2,
          1401.87,
          1406.22,
          1398.37,
          1397.77,
          1400.97,
          1394.8,
          1400.46,
          1400.64,
          1400.15,
          1400.83,
          1399.16,
          1402.13,
          1404.5,
          1399.95,
          1396.12,
          1400.35,
          1405.23,
          1398.13,
          1400.57,
          1394.75,
          1398.81,
          1399.39,
          1396.07,
          1401.84,
          1399.13,
          1400.99,
          1396.08,
          1396.9,
          1400.36,
          1402.43,
          1400.48,
          1403,
          1405.54,
          1398.9,
          1399.5,
          1400.69,
          1401.77,
          1403.21,
          1401.38,
          1406.05,
          1401.2,
          1399.16,
          1401.27,
          1402.89,
          1399.16,
          1397.76,
          1403.62,
          1400.42,
          1395.57,
          1402.26,
          1401.2,
          1401.58,
          1400.76,
          1402.79,
          1397.99,
          1403.51,
          1403.07,
          1405.52,
          1399.54,
          1395.38,
          1400.11,
          1403.24,
          1399.52,
          1403.02,
          1404.42,
          1401.24,
          1402.78,
          1403.09,
          1406.81,
          1397.93,
          1401.48,
          1394.82,
          1398.94,
          1400.97,
          1404.1,
          1403.93,
          1393.58,
          1402.04,
          1399.17,
          1406.38,
          1406.6,
          1405.96,
          1403.56,
          1413.1,
          1406.09,
          1402.22,
          1412.93,
          1404.76,
          1400.77,
          1408.48,
          1404.94,
          1410.1,
          1395.16,
          1407.81,
          1404.56,
          1406.13,
          1411.35,
          1403.41,
          1403.42,
          1403.21,
          1406.25,
          1403.22,
          1404.45,
          1407.73,
          1399.47,
          1409.1,
          1401.27,
          1408.11,
          1401.84,
          1406.59,
          1402.97,
          1406.6,
          1401.99,
          1409.35,
          1409.34,
          1404.46,
          1407.68,
          1411.9,
          1413.97,
          1403.04,
          1402.28,
          1406.42,
          1418.5,
          1399.49,
          1407.06,
          1408.42,
          1412.25,
          1413.25,
          1405.76,
          1410.11,
          1402.67,
          1406.83,
          1404.39,
          1405.15,
          1413.34,
          1412.6,
          1408.36,
          1415.25,
          1413.42,
          1404.21,
          1405.76,
          1409.63,
          1408.82,
          1409.96,
          1411.89,
          1410.7,
          1409.22,
          1411.94,
          1420.83,
          1414.56,
          1416.07,
          1414.89,
          1421.23,
          1412.47,
          1410.09,
          1420.37,
          1418.08,
          1417.31,
          1423.48,
          1421.09,
          1416.76,
          1408.09,
          1422.37,
          1414.72,
          1415.7,
          1418.05,
          1417.41,
          1414.99,
          1413.73,
          1425.27,
          1422.58,
          1422.52,
          1422.73,
          1423.99,
          1424.65,
          1429.45,
          1417.14,
          1420.64,
          1426.62,
          1419.03,
          1432.52,
          1424.4,
          1426.3,
          1427.27,
          1422.78,
          1428.01,
          1425.95,
          1425.77,
          1427.2
         ]
        }
       ],
       "layout": {
        "height": 700,
        "margin": {
         "b": 50,
         "l": 50,
         "r": 50,
         "t": 50
        },
        "scene": {
         "xaxis": {
          "autorange": false,
          "range": [
           1,
           192
          ],
          "title": {
           "text": "time_in_cycles"
          }
         },
         "yaxis": {
          "autorange": false,
          "range": [
           2388,
           2388.32
          ],
          "title": {
           "text": "(Physical fan speed) (rpm)"
          }
         },
         "zaxis": {
          "autorange": false,
          "range": [
           1393.58,
           1432.52
          ],
          "title": {
           "text": "(LPT outlet temperature) (◦R)"
          }
         }
        },
        "template": {
         "data": {
          "bar": [
           {
            "error_x": {
             "color": "#f2f5fa"
            },
            "error_y": {
             "color": "#f2f5fa"
            },
            "marker": {
             "line": {
              "color": "rgb(17,17,17)",
              "width": 0.5
             },
             "pattern": {
              "fillmode": "overlay",
              "size": 10,
              "solidity": 0.2
             }
            },
            "type": "bar"
           }
          ],
          "barpolar": [
           {
            "marker": {
             "line": {
              "color": "rgb(17,17,17)",
              "width": 0.5
             },
             "pattern": {
              "fillmode": "overlay",
              "size": 10,
              "solidity": 0.2
             }
            },
            "type": "barpolar"
           }
          ],
          "carpet": [
           {
            "aaxis": {
             "endlinecolor": "#A2B1C6",
             "gridcolor": "#506784",
             "linecolor": "#506784",
             "minorgridcolor": "#506784",
             "startlinecolor": "#A2B1C6"
            },
            "baxis": {
             "endlinecolor": "#A2B1C6",
             "gridcolor": "#506784",
             "linecolor": "#506784",
             "minorgridcolor": "#506784",
             "startlinecolor": "#A2B1C6"
            },
            "type": "carpet"
           }
          ],
          "choropleth": [
           {
            "colorbar": {
             "outlinewidth": 0,
             "ticks": ""
            },
            "type": "choropleth"
           }
          ],
          "contour": [
           {
            "colorbar": {
             "outlinewidth": 0,
             "ticks": ""
            },
            "colorscale": [
             [
              0,
              "#0d0887"
             ],
             [
              0.1111111111111111,
              "#46039f"
             ],
             [
              0.2222222222222222,
              "#7201a8"
             ],
             [
              0.3333333333333333,
              "#9c179e"
             ],
             [
              0.4444444444444444,
              "#bd3786"
             ],
             [
              0.5555555555555556,
              "#d8576b"
             ],
             [
              0.6666666666666666,
              "#ed7953"
             ],
             [
              0.7777777777777778,
              "#fb9f3a"
             ],
             [
              0.8888888888888888,
              "#fdca26"
             ],
             [
              1,
              "#f0f921"
             ]
            ],
            "type": "contour"
           }
          ],
          "contourcarpet": [
           {
            "colorbar": {
             "outlinewidth": 0,
             "ticks": ""
            },
            "type": "contourcarpet"
           }
          ],
          "heatmap": [
           {
            "colorbar": {
             "outlinewidth": 0,
             "ticks": ""
            },
            "colorscale": [
             [
              0,
              "#0d0887"
             ],
             [
              0.1111111111111111,
              "#46039f"
             ],
             [
              0.2222222222222222,
              "#7201a8"
             ],
             [
              0.3333333333333333,
              "#9c179e"
             ],
             [
              0.4444444444444444,
              "#bd3786"
             ],
             [
              0.5555555555555556,
              "#d8576b"
             ],
             [
              0.6666666666666666,
              "#ed7953"
             ],
             [
              0.7777777777777778,
              "#fb9f3a"
             ],
             [
              0.8888888888888888,
              "#fdca26"
             ],
             [
              1,
              "#f0f921"
             ]
            ],
            "type": "heatmap"
           }
          ],
          "heatmapgl": [
           {
            "colorbar": {
             "outlinewidth": 0,
             "ticks": ""
            },
            "colorscale": [
             [
              0,
              "#0d0887"
             ],
             [
              0.1111111111111111,
              "#46039f"
             ],
             [
              0.2222222222222222,
              "#7201a8"
             ],
             [
              0.3333333333333333,
              "#9c179e"
             ],
             [
              0.4444444444444444,
              "#bd3786"
             ],
             [
              0.5555555555555556,
              "#d8576b"
             ],
             [
              0.6666666666666666,
              "#ed7953"
             ],
             [
              0.7777777777777778,
              "#fb9f3a"
             ],
             [
              0.8888888888888888,
              "#fdca26"
             ],
             [
              1,
              "#f0f921"
             ]
            ],
            "type": "heatmapgl"
           }
          ],
          "histogram": [
           {
            "marker": {
             "pattern": {
              "fillmode": "overlay",
              "size": 10,
              "solidity": 0.2
             }
            },
            "type": "histogram"
           }
          ],
          "histogram2d": [
           {
            "colorbar": {
             "outlinewidth": 0,
             "ticks": ""
            },
            "colorscale": [
             [
              0,
              "#0d0887"
             ],
             [
              0.1111111111111111,
              "#46039f"
             ],
             [
              0.2222222222222222,
              "#7201a8"
             ],
             [
              0.3333333333333333,
              "#9c179e"
             ],
             [
              0.4444444444444444,
              "#bd3786"
             ],
             [
              0.5555555555555556,
              "#d8576b"
             ],
             [
              0.6666666666666666,
              "#ed7953"
             ],
             [
              0.7777777777777778,
              "#fb9f3a"
             ],
             [
              0.8888888888888888,
              "#fdca26"
             ],
             [
              1,
              "#f0f921"
             ]
            ],
            "type": "histogram2d"
           }
          ],
          "histogram2dcontour": [
           {
            "colorbar": {
             "outlinewidth": 0,
             "ticks": ""
            },
            "colorscale": [
             [
              0,
              "#0d0887"
             ],
             [
              0.1111111111111111,
              "#46039f"
             ],
             [
              0.2222222222222222,
              "#7201a8"
             ],
             [
              0.3333333333333333,
              "#9c179e"
             ],
             [
              0.4444444444444444,
              "#bd3786"
             ],
             [
              0.5555555555555556,
              "#d8576b"
             ],
             [
              0.6666666666666666,
              "#ed7953"
             ],
             [
              0.7777777777777778,
              "#fb9f3a"
             ],
             [
              0.8888888888888888,
              "#fdca26"
             ],
             [
              1,
              "#f0f921"
             ]
            ],
            "type": "histogram2dcontour"
           }
          ],
          "mesh3d": [
           {
            "colorbar": {
             "outlinewidth": 0,
             "ticks": ""
            },
            "type": "mesh3d"
           }
          ],
          "parcoords": [
           {
            "line": {
             "colorbar": {
              "outlinewidth": 0,
              "ticks": ""
             }
            },
            "type": "parcoords"
           }
          ],
          "pie": [
           {
            "automargin": true,
            "type": "pie"
           }
          ],
          "scatter": [
           {
            "marker": {
             "line": {
              "color": "#283442"
             }
            },
            "type": "scatter"
           }
          ],
          "scatter3d": [
           {
            "line": {
             "colorbar": {
              "outlinewidth": 0,
              "ticks": ""
             }
            },
            "marker": {
             "colorbar": {
              "outlinewidth": 0,
              "ticks": ""
             }
            },
            "type": "scatter3d"
           }
          ],
          "scattercarpet": [
           {
            "marker": {
             "colorbar": {
              "outlinewidth": 0,
              "ticks": ""
             }
            },
            "type": "scattercarpet"
           }
          ],
          "scattergeo": [
           {
            "marker": {
             "colorbar": {
              "outlinewidth": 0,
              "ticks": ""
             }
            },
            "type": "scattergeo"
           }
          ],
          "scattergl": [
           {
            "marker": {
             "line": {
              "color": "#283442"
             }
            },
            "type": "scattergl"
           }
          ],
          "scattermapbox": [
           {
            "marker": {
             "colorbar": {
              "outlinewidth": 0,
              "ticks": ""
             }
            },
            "type": "scattermapbox"
           }
          ],
          "scatterpolar": [
           {
            "marker": {
             "colorbar": {
              "outlinewidth": 0,
              "ticks": ""
             }
            },
            "type": "scatterpolar"
           }
          ],
          "scatterpolargl": [
           {
            "marker": {
             "colorbar": {
              "outlinewidth": 0,
              "ticks": ""
             }
            },
            "type": "scatterpolargl"
           }
          ],
          "scatterternary": [
           {
            "marker": {
             "colorbar": {
              "outlinewidth": 0,
              "ticks": ""
             }
            },
            "type": "scatterternary"
           }
          ],
          "surface": [
           {
            "colorbar": {
             "outlinewidth": 0,
             "ticks": ""
            },
            "colorscale": [
             [
              0,
              "#0d0887"
             ],
             [
              0.1111111111111111,
              "#46039f"
             ],
             [
              0.2222222222222222,
              "#7201a8"
             ],
             [
              0.3333333333333333,
              "#9c179e"
             ],
             [
              0.4444444444444444,
              "#bd3786"
             ],
             [
              0.5555555555555556,
              "#d8576b"
             ],
             [
              0.6666666666666666,
              "#ed7953"
             ],
             [
              0.7777777777777778,
              "#fb9f3a"
             ],
             [
              0.8888888888888888,
              "#fdca26"
             ],
             [
              1,
              "#f0f921"
             ]
            ],
            "type": "surface"
           }
          ],
          "table": [
           {
            "cells": {
             "fill": {
              "color": "#506784"
             },
             "line": {
              "color": "rgb(17,17,17)"
             }
            },
            "header": {
             "fill": {
              "color": "#2a3f5f"
             },
             "line": {
              "color": "rgb(17,17,17)"
             }
            },
            "type": "table"
           }
          ]
         },
         "layout": {
          "annotationdefaults": {
           "arrowcolor": "#f2f5fa",
           "arrowhead": 0,
           "arrowwidth": 1
          },
          "autotypenumbers": "strict",
          "coloraxis": {
           "colorbar": {
            "outlinewidth": 0,
            "ticks": ""
           }
          },
          "colorscale": {
           "diverging": [
            [
             0,
             "#8e0152"
            ],
            [
             0.1,
             "#c51b7d"
            ],
            [
             0.2,
             "#de77ae"
            ],
            [
             0.3,
             "#f1b6da"
            ],
            [
             0.4,
             "#fde0ef"
            ],
            [
             0.5,
             "#f7f7f7"
            ],
            [
             0.6,
             "#e6f5d0"
            ],
            [
             0.7,
             "#b8e186"
            ],
            [
             0.8,
             "#7fbc41"
            ],
            [
             0.9,
             "#4d9221"
            ],
            [
             1,
             "#276419"
            ]
           ],
           "sequential": [
            [
             0,
             "#0d0887"
            ],
            [
             0.1111111111111111,
             "#46039f"
            ],
            [
             0.2222222222222222,
             "#7201a8"
            ],
            [
             0.3333333333333333,
             "#9c179e"
            ],
            [
             0.4444444444444444,
             "#bd3786"
            ],
            [
             0.5555555555555556,
             "#d8576b"
            ],
            [
             0.6666666666666666,
             "#ed7953"
            ],
            [
             0.7777777777777778,
             "#fb9f3a"
            ],
            [
             0.8888888888888888,
             "#fdca26"
            ],
            [
             1,
             "#f0f921"
            ]
           ],
           "sequentialminus": [
            [
             0,
             "#0d0887"
            ],
            [
             0.1111111111111111,
             "#46039f"
            ],
            [
             0.2222222222222222,
             "#7201a8"
            ],
            [
             0.3333333333333333,
             "#9c179e"
            ],
            [
             0.4444444444444444,
             "#bd3786"
            ],
            [
             0.5555555555555556,
             "#d8576b"
            ],
            [
             0.6666666666666666,
             "#ed7953"
            ],
            [
             0.7777777777777778,
             "#fb9f3a"
            ],
            [
             0.8888888888888888,
             "#fdca26"
            ],
            [
             1,
             "#f0f921"
            ]
           ]
          },
          "colorway": [
           "#636efa",
           "#EF553B",
           "#00cc96",
           "#ab63fa",
           "#FFA15A",
           "#19d3f3",
           "#FF6692",
           "#B6E880",
           "#FF97FF",
           "#FECB52"
          ],
          "font": {
           "color": "#f2f5fa"
          },
          "geo": {
           "bgcolor": "rgb(17,17,17)",
           "lakecolor": "rgb(17,17,17)",
           "landcolor": "rgb(17,17,17)",
           "showlakes": true,
           "showland": true,
           "subunitcolor": "#506784"
          },
          "hoverlabel": {
           "align": "left"
          },
          "hovermode": "closest",
          "mapbox": {
           "style": "dark"
          },
          "paper_bgcolor": "rgb(17,17,17)",
          "plot_bgcolor": "rgb(17,17,17)",
          "polar": {
           "angularaxis": {
            "gridcolor": "#506784",
            "linecolor": "#506784",
            "ticks": ""
           },
           "bgcolor": "rgb(17,17,17)",
           "radialaxis": {
            "gridcolor": "#506784",
            "linecolor": "#506784",
            "ticks": ""
           }
          },
          "scene": {
           "xaxis": {
            "backgroundcolor": "rgb(17,17,17)",
            "gridcolor": "#506784",
            "gridwidth": 2,
            "linecolor": "#506784",
            "showbackground": true,
            "ticks": "",
            "zerolinecolor": "#C8D4E3"
           },
           "yaxis": {
            "backgroundcolor": "rgb(17,17,17)",
            "gridcolor": "#506784",
            "gridwidth": 2,
            "linecolor": "#506784",
            "showbackground": true,
            "ticks": "",
            "zerolinecolor": "#C8D4E3"
           },
           "zaxis": {
            "backgroundcolor": "rgb(17,17,17)",
            "gridcolor": "#506784",
            "gridwidth": 2,
            "linecolor": "#506784",
            "showbackground": true,
            "ticks": "",
            "zerolinecolor": "#C8D4E3"
           }
          },
          "shapedefaults": {
           "line": {
            "color": "#f2f5fa"
           }
          },
          "sliderdefaults": {
           "bgcolor": "#C8D4E3",
           "bordercolor": "rgb(17,17,17)",
           "borderwidth": 1,
           "tickwidth": 0
          },
          "ternary": {
           "aaxis": {
            "gridcolor": "#506784",
            "linecolor": "#506784",
            "ticks": ""
           },
           "baxis": {
            "gridcolor": "#506784",
            "linecolor": "#506784",
            "ticks": ""
           },
           "bgcolor": "rgb(17,17,17)",
           "caxis": {
            "gridcolor": "#506784",
            "linecolor": "#506784",
            "ticks": ""
           }
          },
          "title": {
           "x": 0.05
          },
          "updatemenudefaults": {
           "bgcolor": "#506784",
           "borderwidth": 0
          },
          "xaxis": {
           "automargin": true,
           "gridcolor": "#283442",
           "linecolor": "#506784",
           "ticks": "",
           "title": {
            "standoff": 15
           },
           "zerolinecolor": "#283442",
           "zerolinewidth": 2
          },
          "yaxis": {
           "automargin": true,
           "gridcolor": "#283442",
           "linecolor": "#506784",
           "ticks": "",
           "title": {
            "standoff": 15
           },
           "zerolinecolor": "#283442",
           "zerolinewidth": 2
          }
         }
        },
        "title": {
         "text": "Example"
        },
        "width": 900
       }
      }
     },
     "metadata": {},
     "output_type": "display_data"
    }
   ],
   "source": [
    "plot_3d_scatter_plotly(dataFrame , x_col = \"time_in_cycles\", y_col = \"(Physical fan speed) (rpm)\", z_col = \"(LPT outlet temperature) (◦R)\", param=\"(Physical core speed) (rpm)\", width=900, height=700, title=\"Example\")"
   ]
  }
 ],
 "metadata": {
  "kernelspec": {
   "display_name": "recpy",
   "language": "python",
   "name": "python3"
  },
  "language_info": {
   "codemirror_mode": {
    "name": "ipython",
    "version": 3
   },
   "file_extension": ".py",
   "mimetype": "text/x-python",
   "name": "python",
   "nbconvert_exporter": "python",
   "pygments_lexer": "ipython3",
   "version": "3.8.18"
  }
 },
 "nbformat": 4,
 "nbformat_minor": 2
}
